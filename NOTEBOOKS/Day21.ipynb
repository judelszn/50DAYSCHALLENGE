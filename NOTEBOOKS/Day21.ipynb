{
 "cells": [
  {
   "cell_type": "markdown",
   "metadata": {},
   "source": [
    "#  Processing Data with Pandas"
   ]
  },
  {
   "cell_type": "code",
   "execution_count": 1,
   "metadata": {},
   "outputs": [],
   "source": [
    "# Import necessary libraries\n",
    "\n",
    "import pandas as pd\n",
    "import numpy as np \n",
    "import matplotlib.pyplot as plt"
   ]
  },
  {
   "cell_type": "code",
   "execution_count": 2,
   "metadata": {},
   "outputs": [
    {
     "data": {
      "text/html": [
       "<div>\n",
       "<style scoped>\n",
       "    .dataframe tbody tr th:only-of-type {\n",
       "        vertical-align: middle;\n",
       "    }\n",
       "\n",
       "    .dataframe tbody tr th {\n",
       "        vertical-align: top;\n",
       "    }\n",
       "\n",
       "    .dataframe thead th {\n",
       "        text-align: right;\n",
       "    }\n",
       "</style>\n",
       "<table border=\"1\" class=\"dataframe\">\n",
       "  <thead>\n",
       "    <tr style=\"text-align: right;\">\n",
       "      <th></th>\n",
       "      <th>date</th>\n",
       "      <th>products</th>\n",
       "      <th>sales</th>\n",
       "      <th>costs</th>\n",
       "    </tr>\n",
       "  </thead>\n",
       "  <tbody>\n",
       "    <tr>\n",
       "      <th>3</th>\n",
       "      <td>2021-11-07</td>\n",
       "      <td>cars</td>\n",
       "      <td>15900</td>\n",
       "      <td>10910</td>\n",
       "    </tr>\n",
       "    <tr>\n",
       "      <th>4</th>\n",
       "      <td>2021-12-06</td>\n",
       "      <td>boats</td>\n",
       "      <td>12087</td>\n",
       "      <td>7087</td>\n",
       "    </tr>\n",
       "    <tr>\n",
       "      <th>5</th>\n",
       "      <td>2021-12-09</td>\n",
       "      <td>cars</td>\n",
       "      <td>56897</td>\n",
       "      <td>40447</td>\n",
       "    </tr>\n",
       "    <tr>\n",
       "      <th>6</th>\n",
       "      <td>2021-11-10</td>\n",
       "      <td>cars</td>\n",
       "      <td>11879</td>\n",
       "      <td>5879</td>\n",
       "    </tr>\n",
       "    <tr>\n",
       "      <th>7</th>\n",
       "      <td>2021-12-06</td>\n",
       "      <td>houses</td>\n",
       "      <td>19345</td>\n",
       "      <td>13451</td>\n",
       "    </tr>\n",
       "  </tbody>\n",
       "</table>\n",
       "</div>"
      ],
      "text/plain": [
       "        date products  sales  costs\n",
       "3 2021-11-07     cars  15900  10910\n",
       "4 2021-12-06    boats  12087   7087\n",
       "5 2021-12-09     cars  56897  40447\n",
       "6 2021-11-10     cars  11879   5879\n",
       "7 2021-12-06   houses  19345  13451"
      ]
     },
     "execution_count": 2,
     "metadata": {},
     "output_type": "execute_result"
    }
   ],
   "source": [
    "# Create a data frame json file\n",
    "\n",
    "df = pd.read_json(\"../DATA/asset_data_analysis.json\",orient=\"split\")\n",
    "\n",
    "df.tail()"
   ]
  },
  {
   "cell_type": "code",
   "execution_count": 3,
   "metadata": {},
   "outputs": [
    {
     "data": {
      "text/html": [
       "<div>\n",
       "<style scoped>\n",
       "    .dataframe tbody tr th:only-of-type {\n",
       "        vertical-align: middle;\n",
       "    }\n",
       "\n",
       "    .dataframe tbody tr th {\n",
       "        vertical-align: top;\n",
       "    }\n",
       "\n",
       "    .dataframe thead th {\n",
       "        text-align: right;\n",
       "    }\n",
       "</style>\n",
       "<table border=\"1\" class=\"dataframe\">\n",
       "  <thead>\n",
       "    <tr style=\"text-align: right;\">\n",
       "      <th></th>\n",
       "      <th>date</th>\n",
       "      <th>products</th>\n",
       "      <th>sales</th>\n",
       "      <th>costs</th>\n",
       "    </tr>\n",
       "  </thead>\n",
       "  <tbody>\n",
       "    <tr>\n",
       "      <th>3</th>\n",
       "      <td>2021-11-07</td>\n",
       "      <td>cars</td>\n",
       "      <td>15900</td>\n",
       "      <td>10910</td>\n",
       "    </tr>\n",
       "    <tr>\n",
       "      <th>4</th>\n",
       "      <td>2021-12-06</td>\n",
       "      <td>boats</td>\n",
       "      <td>12087</td>\n",
       "      <td>7087</td>\n",
       "    </tr>\n",
       "    <tr>\n",
       "      <th>5</th>\n",
       "      <td>2021-12-09</td>\n",
       "      <td>cars</td>\n",
       "      <td>56897</td>\n",
       "      <td>40447</td>\n",
       "    </tr>\n",
       "    <tr>\n",
       "      <th>6</th>\n",
       "      <td>2021-11-10</td>\n",
       "      <td>cars</td>\n",
       "      <td>11879</td>\n",
       "      <td>5879</td>\n",
       "    </tr>\n",
       "    <tr>\n",
       "      <th>7</th>\n",
       "      <td>2021-12-06</td>\n",
       "      <td>houses</td>\n",
       "      <td>19345</td>\n",
       "      <td>13451</td>\n",
       "    </tr>\n",
       "  </tbody>\n",
       "</table>\n",
       "</div>"
      ],
      "text/plain": [
       "        date products  sales  costs\n",
       "3 2021-11-07     cars  15900  10910\n",
       "4 2021-12-06    boats  12087   7087\n",
       "5 2021-12-09     cars  56897  40447\n",
       "6 2021-11-10     cars  11879   5879\n",
       "7 2021-12-06   houses  19345  13451"
      ]
     },
     "execution_count": 3,
     "metadata": {},
     "output_type": "execute_result"
    }
   ],
   "source": [
    "# Create copy of the data frame\n",
    "\n",
    "df_copy = df.copy()\n",
    "df_copy.tail() \n"
   ]
  },
  {
   "cell_type": "code",
   "execution_count": 4,
   "metadata": {},
   "outputs": [
    {
     "name": "stdout",
     "output_type": "stream",
     "text": [
      "<class 'pandas.core.frame.DataFrame'>\n",
      "Index: 8 entries, 0 to 7\n",
      "Data columns (total 4 columns):\n",
      " #   Column    Non-Null Count  Dtype         \n",
      "---  ------    --------------  -----         \n",
      " 0   date      8 non-null      datetime64[ns]\n",
      " 1   products  8 non-null      object        \n",
      " 2   sales     8 non-null      int64         \n",
      " 3   costs     8 non-null      int64         \n",
      "dtypes: datetime64[ns](1), int64(2), object(1)\n",
      "memory usage: 320.0+ bytes\n"
     ]
    }
   ],
   "source": [
    "df_copy.info()"
   ]
  },
  {
   "cell_type": "code",
   "execution_count": 5,
   "metadata": {},
   "outputs": [
    {
     "name": "stdout",
     "output_type": "stream",
     "text": [
      "<class 'pandas.core.frame.DataFrame'>\n",
      "Index: 8 entries, 0 to 7\n",
      "Data columns (total 4 columns):\n",
      " #   Column    Non-Null Count  Dtype         \n",
      "---  ------    --------------  -----         \n",
      " 0   date      8 non-null      datetime64[ns]\n",
      " 1   products  8 non-null      object        \n",
      " 2   sales     8 non-null      int64         \n",
      " 3   costs     8 non-null      int64         \n",
      "dtypes: datetime64[ns](1), int64(2), object(1)\n",
      "memory usage: 320.0+ bytes\n"
     ]
    }
   ],
   "source": [
    "# Convert date column to datetime\n",
    "\n",
    "df_copy[\"date\"] = pd.to_datetime(df_copy[\"date\"])\n",
    "df_copy.info()"
   ]
  },
  {
   "cell_type": "code",
   "execution_count": 6,
   "metadata": {},
   "outputs": [
    {
     "data": {
      "text/html": [
       "<div>\n",
       "<style scoped>\n",
       "    .dataframe tbody tr th:only-of-type {\n",
       "        vertical-align: middle;\n",
       "    }\n",
       "\n",
       "    .dataframe tbody tr th {\n",
       "        vertical-align: top;\n",
       "    }\n",
       "\n",
       "    .dataframe thead th {\n",
       "        text-align: right;\n",
       "    }\n",
       "</style>\n",
       "<table border=\"1\" class=\"dataframe\">\n",
       "  <thead>\n",
       "    <tr style=\"text-align: right;\">\n",
       "      <th></th>\n",
       "      <th>date</th>\n",
       "      <th>products</th>\n",
       "      <th>sales</th>\n",
       "      <th>costs</th>\n",
       "    </tr>\n",
       "    <tr>\n",
       "      <th>date</th>\n",
       "      <th></th>\n",
       "      <th></th>\n",
       "      <th></th>\n",
       "      <th></th>\n",
       "    </tr>\n",
       "  </thead>\n",
       "  <tbody>\n",
       "    <tr>\n",
       "      <th>2021-11-20</th>\n",
       "      <td>2021-11-20</td>\n",
       "      <td>cars</td>\n",
       "      <td>19234</td>\n",
       "      <td>12340</td>\n",
       "    </tr>\n",
       "    <tr>\n",
       "      <th>2021-12-12</th>\n",
       "      <td>2021-12-12</td>\n",
       "      <td>boats</td>\n",
       "      <td>87598</td>\n",
       "      <td>67568</td>\n",
       "    </tr>\n",
       "    <tr>\n",
       "      <th>2021-12-06</th>\n",
       "      <td>2021-12-06</td>\n",
       "      <td>houses</td>\n",
       "      <td>20989</td>\n",
       "      <td>11999</td>\n",
       "    </tr>\n",
       "    <tr>\n",
       "      <th>2021-11-07</th>\n",
       "      <td>2021-11-07</td>\n",
       "      <td>cars</td>\n",
       "      <td>15900</td>\n",
       "      <td>10910</td>\n",
       "    </tr>\n",
       "    <tr>\n",
       "      <th>2021-12-06</th>\n",
       "      <td>2021-12-06</td>\n",
       "      <td>boats</td>\n",
       "      <td>12087</td>\n",
       "      <td>7087</td>\n",
       "    </tr>\n",
       "  </tbody>\n",
       "</table>\n",
       "</div>"
      ],
      "text/plain": [
       "                 date products  sales  costs\n",
       "date                                        \n",
       "2021-11-20 2021-11-20     cars  19234  12340\n",
       "2021-12-12 2021-12-12    boats  87598  67568\n",
       "2021-12-06 2021-12-06   houses  20989  11999\n",
       "2021-11-07 2021-11-07     cars  15900  10910\n",
       "2021-12-06 2021-12-06    boats  12087   7087"
      ]
     },
     "execution_count": 6,
     "metadata": {},
     "output_type": "execute_result"
    }
   ],
   "source": [
    "# Set date column as index for data frame\n",
    "\n",
    "df_copy = df_copy.set_index(\"date\", drop=False)\n",
    "df_copy.head()"
   ]
  },
  {
   "cell_type": "code",
   "execution_count": 7,
   "metadata": {},
   "outputs": [
    {
     "data": {
      "text/html": [
       "<div>\n",
       "<style scoped>\n",
       "    .dataframe tbody tr th:only-of-type {\n",
       "        vertical-align: middle;\n",
       "    }\n",
       "\n",
       "    .dataframe tbody tr th {\n",
       "        vertical-align: top;\n",
       "    }\n",
       "\n",
       "    .dataframe thead th {\n",
       "        text-align: right;\n",
       "    }\n",
       "</style>\n",
       "<table border=\"1\" class=\"dataframe\">\n",
       "  <thead>\n",
       "    <tr style=\"text-align: right;\">\n",
       "      <th></th>\n",
       "      <th>sales</th>\n",
       "      <th>costs</th>\n",
       "    </tr>\n",
       "    <tr>\n",
       "      <th>date</th>\n",
       "      <th></th>\n",
       "      <th></th>\n",
       "    </tr>\n",
       "  </thead>\n",
       "  <tbody>\n",
       "    <tr>\n",
       "      <th>2021-11-07</th>\n",
       "      <td>15900</td>\n",
       "      <td>10910</td>\n",
       "    </tr>\n",
       "    <tr>\n",
       "      <th>2021-11-10</th>\n",
       "      <td>11879</td>\n",
       "      <td>5879</td>\n",
       "    </tr>\n",
       "    <tr>\n",
       "      <th>2021-11-20</th>\n",
       "      <td>19234</td>\n",
       "      <td>12340</td>\n",
       "    </tr>\n",
       "    <tr>\n",
       "      <th>2021-12-06</th>\n",
       "      <td>52421</td>\n",
       "      <td>32537</td>\n",
       "    </tr>\n",
       "    <tr>\n",
       "      <th>2021-12-09</th>\n",
       "      <td>56897</td>\n",
       "      <td>40447</td>\n",
       "    </tr>\n",
       "  </tbody>\n",
       "</table>\n",
       "</div>"
      ],
      "text/plain": [
       "            sales  costs\n",
       "date                    \n",
       "2021-11-07  15900  10910\n",
       "2021-11-10  11879   5879\n",
       "2021-11-20  19234  12340\n",
       "2021-12-06  52421  32537\n",
       "2021-12-09  56897  40447"
      ]
     },
     "execution_count": 7,
     "metadata": {},
     "output_type": "execute_result"
    }
   ],
   "source": [
    "# Create line plot of sales and date\n",
    "\n",
    "# Group dataframe by index or date\n",
    "df_grouped = df_copy.groupby(by =df_copy.index).sum(numeric_only=True)\n",
    "df_grouped.head()"
   ]
  },
  {
   "cell_type": "code",
   "execution_count": 8,
   "metadata": {},
   "outputs": [
    {
     "data": {
      "image/png": "[encoded data removed]",
      "text/plain": [
       "<Figure size 1200x800 with 1 Axes>"
      ]
     },
     "metadata": {},
     "output_type": "display_data"
    }
   ],
   "source": [
    "# Line plot of sales and date\n",
    "fig,ax = plt.subplots(figsize=(12,8))\n",
    "ax.plot(df_grouped.index,df_grouped[\"sales\"])\n",
    "ax.set(xlabel=\"Date\",ylabel=\"Sales\")\n",
    "plt.title(label=\"Sales Trend Over Time\",\n",
    "          fontdict={\"fontsize\":20,\n",
    "                    \"fontweight\":\"bold\"})\n",
    "plt.xticks(rotation=45)\n",
    "plt.show()\n"
   ]
  },
  {
   "cell_type": "code",
   "execution_count": 9,
   "metadata": {},
   "outputs": [
    {
     "data": {
      "text/html": [
       "<div>\n",
       "<style scoped>\n",
       "    .dataframe tbody tr th:only-of-type {\n",
       "        vertical-align: middle;\n",
       "    }\n",
       "\n",
       "    .dataframe tbody tr th {\n",
       "        vertical-align: top;\n",
       "    }\n",
       "\n",
       "    .dataframe thead th {\n",
       "        text-align: right;\n",
       "    }\n",
       "</style>\n",
       "<table border=\"1\" class=\"dataframe\">\n",
       "  <thead>\n",
       "    <tr style=\"text-align: right;\">\n",
       "      <th></th>\n",
       "      <th></th>\n",
       "      <th>sales</th>\n",
       "      <th>costs</th>\n",
       "    </tr>\n",
       "    <tr>\n",
       "      <th>date</th>\n",
       "      <th>products</th>\n",
       "      <th></th>\n",
       "      <th></th>\n",
       "    </tr>\n",
       "  </thead>\n",
       "  <tbody>\n",
       "    <tr>\n",
       "      <th>2021-11-20</th>\n",
       "      <th>cars</th>\n",
       "      <td>19234</td>\n",
       "      <td>12340</td>\n",
       "    </tr>\n",
       "    <tr>\n",
       "      <th>2021-12-12</th>\n",
       "      <th>boats</th>\n",
       "      <td>87598</td>\n",
       "      <td>67568</td>\n",
       "    </tr>\n",
       "    <tr>\n",
       "      <th>2021-12-06</th>\n",
       "      <th>houses</th>\n",
       "      <td>20989</td>\n",
       "      <td>11999</td>\n",
       "    </tr>\n",
       "    <tr>\n",
       "      <th>2021-11-07</th>\n",
       "      <th>cars</th>\n",
       "      <td>15900</td>\n",
       "      <td>10910</td>\n",
       "    </tr>\n",
       "    <tr>\n",
       "      <th>2021-12-06</th>\n",
       "      <th>boats</th>\n",
       "      <td>12087</td>\n",
       "      <td>7087</td>\n",
       "    </tr>\n",
       "  </tbody>\n",
       "</table>\n",
       "</div>"
      ],
      "text/plain": [
       "                     sales  costs\n",
       "date       products              \n",
       "2021-11-20 cars      19234  12340\n",
       "2021-12-12 boats     87598  67568\n",
       "2021-12-06 houses    20989  11999\n",
       "2021-11-07 cars      15900  10910\n",
       "2021-12-06 boats     12087   7087"
      ]
     },
     "execution_count": 9,
     "metadata": {},
     "output_type": "execute_result"
    }
   ],
   "source": [
    "# Hierarchical index for date as outer index\n",
    "\n",
    "df_hie = df.set_index([\"date\",\"products\"])\n",
    "df_hie.head()"
   ]
  },
  {
   "cell_type": "code",
   "execution_count": 10,
   "metadata": {},
   "outputs": [
    {
     "name": "stdout",
     "output_type": "stream",
     "text": [
      "The profit of the houses on December 12 is 14884\n"
     ]
    }
   ],
   "source": [
    "# Profit of houses on December 12,2021\n",
    "\n",
    "# Sales of houses on December 12, 2021\n",
    "sales_12 = df_hie.loc[([\"12-06-2021\"],\"houses\"),\"sales\"].sum()\n",
    "costs_12 = df_hie.loc[([\"12-06-2021\"],\"houses\"),\"costs\"].sum()\n",
    "\n",
    "profit_12 = sales_12 - costs_12\n",
    "print(f\"The profit of the houses on December 12 is {profit_12}\")"
   ]
  },
  {
   "cell_type": "code",
   "execution_count": 11,
   "metadata": {},
   "outputs": [],
   "source": [
    "# Thousand separator for sales and costs columns\n",
    "\n",
    " # Define function for separator\n",
    "def thousand_separator(df, sales, costs):\n",
    "     df[sales] = df[sales].apply(lambda x: '{:,}'.format(x))\n",
    "     df[costs] = df[costs].apply(lambda x: '{:,}'.format(x))\n",
    "     return df_hie\n",
    " \n",
    " "
   ]
  },
  {
   "cell_type": "code",
   "execution_count": 12,
   "metadata": {},
   "outputs": [
    {
     "data": {
      "text/html": [
       "<div>\n",
       "<style scoped>\n",
       "    .dataframe tbody tr th:only-of-type {\n",
       "        vertical-align: middle;\n",
       "    }\n",
       "\n",
       "    .dataframe tbody tr th {\n",
       "        vertical-align: top;\n",
       "    }\n",
       "\n",
       "    .dataframe thead th {\n",
       "        text-align: right;\n",
       "    }\n",
       "</style>\n",
       "<table border=\"1\" class=\"dataframe\">\n",
       "  <thead>\n",
       "    <tr style=\"text-align: right;\">\n",
       "      <th></th>\n",
       "      <th></th>\n",
       "      <th>sales</th>\n",
       "      <th>costs</th>\n",
       "    </tr>\n",
       "    <tr>\n",
       "      <th>date</th>\n",
       "      <th>products</th>\n",
       "      <th></th>\n",
       "      <th></th>\n",
       "    </tr>\n",
       "  </thead>\n",
       "  <tbody>\n",
       "    <tr>\n",
       "      <th>2021-11-20</th>\n",
       "      <th>cars</th>\n",
       "      <td>19,234</td>\n",
       "      <td>12,340</td>\n",
       "    </tr>\n",
       "    <tr>\n",
       "      <th>2021-12-12</th>\n",
       "      <th>boats</th>\n",
       "      <td>87,598</td>\n",
       "      <td>67,568</td>\n",
       "    </tr>\n",
       "    <tr>\n",
       "      <th>2021-12-06</th>\n",
       "      <th>houses</th>\n",
       "      <td>20,989</td>\n",
       "      <td>11,999</td>\n",
       "    </tr>\n",
       "    <tr>\n",
       "      <th>2021-11-07</th>\n",
       "      <th>cars</th>\n",
       "      <td>15,900</td>\n",
       "      <td>10,910</td>\n",
       "    </tr>\n",
       "    <tr>\n",
       "      <th>2021-12-06</th>\n",
       "      <th>boats</th>\n",
       "      <td>12,087</td>\n",
       "      <td>7,087</td>\n",
       "    </tr>\n",
       "    <tr>\n",
       "      <th>2021-12-09</th>\n",
       "      <th>cars</th>\n",
       "      <td>56,897</td>\n",
       "      <td>40,447</td>\n",
       "    </tr>\n",
       "    <tr>\n",
       "      <th>2021-11-10</th>\n",
       "      <th>cars</th>\n",
       "      <td>11,879</td>\n",
       "      <td>5,879</td>\n",
       "    </tr>\n",
       "    <tr>\n",
       "      <th>2021-12-06</th>\n",
       "      <th>houses</th>\n",
       "      <td>19,345</td>\n",
       "      <td>13,451</td>\n",
       "    </tr>\n",
       "  </tbody>\n",
       "</table>\n",
       "</div>"
      ],
      "text/plain": [
       "                      sales   costs\n",
       "date       products                \n",
       "2021-11-20 cars      19,234  12,340\n",
       "2021-12-12 boats     87,598  67,568\n",
       "2021-12-06 houses    20,989  11,999\n",
       "2021-11-07 cars      15,900  10,910\n",
       "2021-12-06 boats     12,087   7,087\n",
       "2021-12-09 cars      56,897  40,447\n",
       "2021-11-10 cars      11,879   5,879\n",
       "2021-12-06 houses    19,345  13,451"
      ]
     },
     "execution_count": 12,
     "metadata": {},
     "output_type": "execute_result"
    }
   ],
   "source": [
    "# Convert data frame\n",
    "thousand_separator(df=df_hie,sales=\"sales\",costs=\"costs\")"
   ]
  },
  {
   "cell_type": "code",
   "execution_count": 13,
   "metadata": {},
   "outputs": [
    {
     "data": {
      "text/plain": [
       "products\n",
       "cars      4\n",
       "boats     2\n",
       "houses    2\n",
       "dtype: int64"
      ]
     },
     "execution_count": 13,
     "metadata": {},
     "output_type": "execute_result"
    }
   ],
   "source": [
    "# Count of each product\n",
    "\n",
    "df_product_count = df_hie.groupby(['products']).size().sort_values(ascending=False)\n",
    "df_product_count"
   ]
  },
  {
   "cell_type": "code",
   "execution_count": 14,
   "metadata": {},
   "outputs": [
    {
     "data": {
      "text/plain": [
       "('cars', 4)"
      ]
     },
     "execution_count": 14,
     "metadata": {},
     "output_type": "execute_result"
    }
   ],
   "source": [
    "# Most frequent product\n",
    "df_product_count.index[0], df_product_count.iloc[0]"
   ]
  }
 ],
 "metadata": {
  "kernelspec": {
   "display_name": "Python 3",
   "language": "python",
   "name": "python3"
  },
  "language_info": {
   "codemirror_mode": {
    "name": "ipython",
    "version": 3
   },
   "file_extension": ".py",
   "mimetype": "text/x-python",
   "name": "python",
   "nbconvert_exporter": "python",
   "pygments_lexer": "ipython3",
   "version": "3.11.5"
  }
 },
 "nbformat": 4,
 "nbformat_minor": 2
}
