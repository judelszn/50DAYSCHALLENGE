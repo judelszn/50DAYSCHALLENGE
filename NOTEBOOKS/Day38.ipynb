{
 "cells": [
  {
   "cell_type": "markdown",
   "metadata": {},
   "source": [
    "# Rental Car Data Analysis"
   ]
  },
  {
   "cell_type": "code",
   "execution_count": 1,
   "metadata": {},
   "outputs": [],
   "source": [
    "# Import necessary libraries\n",
    "\n",
    "import numpy as np\n",
    "import pandas as pd\n",
    "import matplotlib.pyplot as plt\n",
    "import seaborn as sns"
   ]
  },
  {
   "cell_type": "code",
   "execution_count": 2,
   "metadata": {},
   "outputs": [
    {
     "data": {
      "text/html": [
       "<div>\n",
       "<style scoped>\n",
       "    .dataframe tbody tr th:only-of-type {\n",
       "        vertical-align: middle;\n",
       "    }\n",
       "\n",
       "    .dataframe tbody tr th {\n",
       "        vertical-align: top;\n",
       "    }\n",
       "\n",
       "    .dataframe thead th {\n",
       "        text-align: right;\n",
       "    }\n",
       "</style>\n",
       "<table border=\"1\" class=\"dataframe\">\n",
       "  <thead>\n",
       "    <tr style=\"text-align: right;\">\n",
       "      <th></th>\n",
       "      <th>Date</th>\n",
       "      <th>City</th>\n",
       "      <th>Car Type</th>\n",
       "      <th>Rental Price</th>\n",
       "      <th>Discount</th>\n",
       "      <th>Final Price</th>\n",
       "    </tr>\n",
       "  </thead>\n",
       "  <tbody>\n",
       "    <tr>\n",
       "      <th>0</th>\n",
       "      <td>1 01 2022</td>\n",
       "      <td>New York</td>\n",
       "      <td>SUV</td>\n",
       "      <td>NaN</td>\n",
       "      <td>NaN</td>\n",
       "      <td>74.000000</td>\n",
       "    </tr>\n",
       "    <tr>\n",
       "      <th>1</th>\n",
       "      <td>1 01 2022</td>\n",
       "      <td>Chicago</td>\n",
       "      <td>Van</td>\n",
       "      <td>179.0</td>\n",
       "      <td>0.123538</td>\n",
       "      <td>156.886784</td>\n",
       "    </tr>\n",
       "    <tr>\n",
       "      <th>2</th>\n",
       "      <td>1 01 2022</td>\n",
       "      <td>Los Angeles</td>\n",
       "      <td>Van</td>\n",
       "      <td>NaN</td>\n",
       "      <td>0.000000</td>\n",
       "      <td>144.000000</td>\n",
       "    </tr>\n",
       "    <tr>\n",
       "      <th>3</th>\n",
       "      <td>1 01 2022</td>\n",
       "      <td>Houston</td>\n",
       "      <td>Truck</td>\n",
       "      <td>93.0</td>\n",
       "      <td>NaN</td>\n",
       "      <td>93.000000</td>\n",
       "    </tr>\n",
       "    <tr>\n",
       "      <th>4</th>\n",
       "      <td>1 01 2022</td>\n",
       "      <td>Phoenix</td>\n",
       "      <td>Truck</td>\n",
       "      <td>NaN</td>\n",
       "      <td>0.000000</td>\n",
       "      <td>124.000000</td>\n",
       "    </tr>\n",
       "  </tbody>\n",
       "</table>\n",
       "</div>"
      ],
      "text/plain": [
       "        Date         City Car Type  Rental Price  Discount  Final Price\n",
       "0  1 01 2022     New York      SUV           NaN       NaN    74.000000\n",
       "1  1 01 2022      Chicago      Van         179.0  0.123538   156.886784\n",
       "2  1 01 2022  Los Angeles      Van           NaN  0.000000   144.000000\n",
       "3  1 01 2022      Houston    Truck          93.0       NaN    93.000000\n",
       "4  1 01 2022      Phoenix    Truck           NaN  0.000000   124.000000"
      ]
     },
     "execution_count": 2,
     "metadata": {},
     "output_type": "execute_result"
    }
   ],
   "source": [
    "# Load dataset from csv file\n",
    "\n",
    "df = pd.read_csv(\"../DATA/rental_car_analysis.csv\")\n",
    "df.head()"
   ]
  },
  {
   "cell_type": "code",
   "execution_count": 3,
   "metadata": {},
   "outputs": [
    {
     "name": "stdout",
     "output_type": "stream",
     "text": [
      "The number of rows in dataset is 100\n"
     ]
    }
   ],
   "source": [
    "# Number of of rows in dataset\n",
    "\n",
    "rows = df.shape[0]\n",
    "print(f\"The number of rows in dataset is {rows}\")"
   ]
  },
  {
   "cell_type": "code",
   "execution_count": 4,
   "metadata": {},
   "outputs": [
    {
     "data": {
      "text/plain": [
       "90"
      ]
     },
     "execution_count": 4,
     "metadata": {},
     "output_type": "execute_result"
    }
   ],
   "source": [
    "# Sum of duplicate in City column\n",
    "df.duplicated('City').sum()"
   ]
  },
  {
   "cell_type": "code",
   "execution_count": 5,
   "metadata": {},
   "outputs": [
    {
     "data": {
      "text/plain": [
       "Date             0\n",
       "City             0\n",
       "Car Type         0\n",
       "Rental Price    50\n",
       "Discount        34\n",
       "Final Price      0\n",
       "dtype: int64"
      ]
     },
     "execution_count": 5,
     "metadata": {},
     "output_type": "execute_result"
    }
   ],
   "source": [
    "# Check missing values in dataset\n",
    "df.isnull().sum()"
   ]
  },
  {
   "cell_type": "code",
   "execution_count": 6,
   "metadata": {},
   "outputs": [
    {
     "data": {
      "text/plain": [
       "Date            0\n",
       "City            0\n",
       "Car Type        0\n",
       "Rental Price    0\n",
       "Discount        0\n",
       "Final Price     0\n",
       "dtype: int64"
      ]
     },
     "execution_count": 6,
     "metadata": {},
     "output_type": "execute_result"
    }
   ],
   "source": [
    "# Fill in missing values with median values\n",
    "df = df.fillna(df[[\"Rental Price\",\"Discount\"]].median())\n",
    "df.isnull().sum()"
   ]
  },
  {
   "cell_type": "code",
   "execution_count": 7,
   "metadata": {},
   "outputs": [
    {
     "name": "stdout",
     "output_type": "stream",
     "text": [
      "The city with most revenue is Phoenix\n"
     ]
    }
   ],
   "source": [
    "# City with most revenue\n",
    "\n",
    "city_most_revenue = df.groupby(by='City')['Final Price'].sum().idxmax()\n",
    "print(f\"The city with most revenue is {city_most_revenue}\")"
   ]
  },
  {
   "cell_type": "code",
   "execution_count": 8,
   "metadata": {},
   "outputs": [
    {
     "name": "stdout",
     "output_type": "stream",
     "text": [
      "The car type with most revenue is Van\n"
     ]
    }
   ],
   "source": [
    "# Car type with most revenue\n",
    "car_most_revenue = df.groupby(by='Car Type')['Final Price'].sum().idxmax()\n",
    "print(f\"The car type with most revenue is {car_most_revenue}\")"
   ]
  },
  {
   "cell_type": "code",
   "execution_count": 9,
   "metadata": {},
   "outputs": [
    {
     "name": "stdout",
     "output_type": "stream",
     "text": [
      "The car type most expensive to rent is Van\n"
     ]
    }
   ],
   "source": [
    "# Car type most expensive to rent\n",
    "car_most_expensive_rent = df.groupby(by='Car Type')['Rental Price'].mean().idxmax()\n",
    "print(f\"The car type most expensive to rent is {car_most_expensive_rent}\")"
   ]
  },
  {
   "cell_type": "code",
   "execution_count": 10,
   "metadata": {},
   "outputs": [
    {
     "data": {
      "text/plain": [
       "Car Type\n",
       "Sports    1636.880968\n",
       "SUV       1996.634092\n",
       "Name: Final Price, dtype: float64"
      ]
     },
     "execution_count": 10,
     "metadata": {},
     "output_type": "execute_result"
    }
   ],
   "source": [
    "# Two car types with least revenue\n",
    "\n",
    "df_grouped = df.groupby(by='Car Type')['Final Price'].sum()\n",
    "\n",
    "# Sort df_grouped by Final Price\n",
    "least_revenue_car = df_grouped.sort_values().head(2)\n",
    "least_revenue_car"
   ]
  },
  {
   "cell_type": "code",
   "execution_count": 11,
   "metadata": {},
   "outputs": [
    {
     "data": {
      "image/png": "[encoded data removed]",
      "text/plain": [
       "<Figure size 1200x800 with 1 Axes>"
      ]
     },
     "metadata": {},
     "output_type": "display_data"
    }
   ],
   "source": [
    "# Bar plot of least revenue car\n",
    "fig,ax = plt.subplots(figsize=(12,8))\n",
    "ax.bar(x=least_revenue_car.index,height=least_revenue_car)\n",
    "ax.set(xlabel='Car Type',ylabel='Revenue')\n",
    "plt.title(label=\"Revenue by Car Type\",\n",
    "          fontdict={'fontsize':20,'fontweight':'bold'})\n",
    "plt.show()"
   ]
  },
  {
   "cell_type": "code",
   "execution_count": 12,
   "metadata": {},
   "outputs": [
    {
     "name": "stdout",
     "output_type": "stream",
     "text": [
      "The total revenue of the business is $10926.06\n"
     ]
    }
   ],
   "source": [
    "# Total revenue of the business\n",
    "total_revenue = df['Final Price'].sum()\n",
    "print(f\"The total revenue of the business is ${total_revenue:.2f}\")"
   ]
  },
  {
   "cell_type": "code",
   "execution_count": 13,
   "metadata": {},
   "outputs": [
    {
     "name": "stdout",
     "output_type": "stream",
     "text": [
      "The total revenue of the business without discount is $10926.06\n"
     ]
    }
   ],
   "source": [
    "# Without discounts, total revenue\n",
    "\n",
    "total_revenue_without_discount = df['Rental Price'].sum()\n",
    "print(f\"The total revenue of the business without discount is ${total_revenue:.2f}\")"
   ]
  }
 ],
 "metadata": {
  "kernelspec": {
   "display_name": "Python 3",
   "language": "python",
   "name": "python3"
  },
  "language_info": {
   "codemirror_mode": {
    "name": "ipython",
    "version": 3
   },
   "file_extension": ".py",
   "mimetype": "text/x-python",
   "name": "python",
   "nbconvert_exporter": "python",
   "pygments_lexer": "ipython3",
   "version": "3.12.2"
  }
 },
 "nbformat": 4,
 "nbformat_minor": 2
}
