{
 "cells": [
  {
   "cell_type": "markdown",
   "metadata": {},
   "source": [
    "# Soccer Stricker’s Data Analysis"
   ]
  },
  {
   "cell_type": "code",
   "execution_count": 1,
   "metadata": {},
   "outputs": [],
   "source": [
    "# Import necessary libraries\n",
    "\n",
    "import numpy as np\n",
    "import pandas as pd\n",
    "import matplotlib.pyplot as plt\n",
    "import seaborn as sns"
   ]
  },
  {
   "cell_type": "code",
   "execution_count": 2,
   "metadata": {},
   "outputs": [
    {
     "data": {
      "text/html": [
       "<div>\n",
       "<style scoped>\n",
       "    .dataframe tbody tr th:only-of-type {\n",
       "        vertical-align: middle;\n",
       "    }\n",
       "\n",
       "    .dataframe tbody tr th {\n",
       "        vertical-align: top;\n",
       "    }\n",
       "\n",
       "    .dataframe thead th {\n",
       "        text-align: right;\n",
       "    }\n",
       "</style>\n",
       "<table border=\"1\" class=\"dataframe\">\n",
       "  <thead>\n",
       "    <tr style=\"text-align: right;\">\n",
       "      <th></th>\n",
       "      <th>Player Name</th>\n",
       "      <th>Chances Created</th>\n",
       "      <th>Assists</th>\n",
       "      <th>Goals</th>\n",
       "      <th>Club</th>\n",
       "      <th>Manager</th>\n",
       "      <th>Annual Salary</th>\n",
       "    </tr>\n",
       "  </thead>\n",
       "  <tbody>\n",
       "    <tr>\n",
       "      <th>0</th>\n",
       "      <td>Cristiano Ronaldo</td>\n",
       "      <td>85</td>\n",
       "      <td>20</td>\n",
       "      <td>35</td>\n",
       "      <td>Manchester United</td>\n",
       "      <td>Ole Gunnar Solskjær</td>\n",
       "      <td>$35,000,000</td>\n",
       "    </tr>\n",
       "    <tr>\n",
       "      <th>1</th>\n",
       "      <td>Lionel Messi</td>\n",
       "      <td>90</td>\n",
       "      <td>25</td>\n",
       "      <td>30</td>\n",
       "      <td>Paris Saint-Germain</td>\n",
       "      <td>Mauricio Pochettino</td>\n",
       "      <td>$40,000,000</td>\n",
       "    </tr>\n",
       "    <tr>\n",
       "      <th>2</th>\n",
       "      <td>Robert Lewandowski</td>\n",
       "      <td>70</td>\n",
       "      <td>15</td>\n",
       "      <td>40</td>\n",
       "      <td>Bayern Munich</td>\n",
       "      <td>Julian Nagelsmann</td>\n",
       "      <td>$25,000,000</td>\n",
       "    </tr>\n",
       "    <tr>\n",
       "      <th>3</th>\n",
       "      <td>Erling Haaland</td>\n",
       "      <td>60</td>\n",
       "      <td>10</td>\n",
       "      <td>35</td>\n",
       "      <td>Borussia Dortmund</td>\n",
       "      <td>Marco Rose</td>\n",
       "      <td>$20,000,000</td>\n",
       "    </tr>\n",
       "    <tr>\n",
       "      <th>4</th>\n",
       "      <td>Kylian Mbappé</td>\n",
       "      <td>80</td>\n",
       "      <td>18</td>\n",
       "      <td>25</td>\n",
       "      <td>Paris Saint-Germain</td>\n",
       "      <td>Mauricio Pochettino</td>\n",
       "      <td>$30,000,000</td>\n",
       "    </tr>\n",
       "  </tbody>\n",
       "</table>\n",
       "</div>"
      ],
      "text/plain": [
       "          Player Name  Chances Created  Assists  Goals                 Club  \\\n",
       "0   Cristiano Ronaldo               85       20     35    Manchester United   \n",
       "1        Lionel Messi               90       25     30  Paris Saint-Germain   \n",
       "2  Robert Lewandowski               70       15     40        Bayern Munich   \n",
       "3      Erling Haaland               60       10     35    Borussia Dortmund   \n",
       "4       Kylian Mbappé               80       18     25  Paris Saint-Germain   \n",
       "\n",
       "               Manager Annual Salary  \n",
       "0  Ole Gunnar Solskjær   $35,000,000  \n",
       "1  Mauricio Pochettino   $40,000,000  \n",
       "2    Julian Nagelsmann   $25,000,000  \n",
       "3           Marco Rose   $20,000,000  \n",
       "4  Mauricio Pochettino   $30,000,000  "
      ]
     },
     "execution_count": 2,
     "metadata": {},
     "output_type": "execute_result"
    }
   ],
   "source": [
    "# Import dataset from csv file\n",
    "\n",
    "df = pd.read_csv(\"../DATA/soccer_strikers.csv\")\n",
    "df.head()"
   ]
  },
  {
   "cell_type": "code",
   "execution_count": 3,
   "metadata": {},
   "outputs": [
    {
     "name": "stdout",
     "output_type": "stream",
     "text": [
      "<class 'pandas.core.frame.DataFrame'>\n",
      "RangeIndex: 10 entries, 0 to 9\n",
      "Data columns (total 7 columns):\n",
      " #   Column           Non-Null Count  Dtype \n",
      "---  ------           --------------  ----- \n",
      " 0   Player Name      10 non-null     object\n",
      " 1   Chances Created  10 non-null     int64 \n",
      " 2   Assists          10 non-null     int64 \n",
      " 3   Goals            10 non-null     int64 \n",
      " 4   Club             10 non-null     object\n",
      " 5   Manager          10 non-null     object\n",
      " 6   Annual Salary    10 non-null     object\n",
      "dtypes: int64(3), object(4)\n",
      "memory usage: 692.0+ bytes\n"
     ]
    }
   ],
   "source": [
    "# Details of dataset\n",
    "df.info()"
   ]
  },
  {
   "cell_type": "code",
   "execution_count": 4,
   "metadata": {},
   "outputs": [
    {
     "data": {
      "text/plain": [
       "Player Name        0\n",
       "Chances Created    0\n",
       "Assists            0\n",
       "Goals              0\n",
       "Club               0\n",
       "Manager            0\n",
       "Annual Salary      0\n",
       "dtype: int64"
      ]
     },
     "execution_count": 4,
     "metadata": {},
     "output_type": "execute_result"
    }
   ],
   "source": [
    "# Check for missing data\n",
    "df.isnull().sum()"
   ]
  },
  {
   "cell_type": "code",
   "execution_count": 5,
   "metadata": {},
   "outputs": [
    {
     "data": {
      "text/plain": [
       "0"
      ]
     },
     "execution_count": 5,
     "metadata": {},
     "output_type": "execute_result"
    }
   ],
   "source": [
    "# Check for for duplicate data\n",
    "df.duplicated().sum()"
   ]
  },
  {
   "cell_type": "code",
   "execution_count": 6,
   "metadata": {},
   "outputs": [
    {
     "data": {
      "text/html": [
       "<div>\n",
       "<style scoped>\n",
       "    .dataframe tbody tr th:only-of-type {\n",
       "        vertical-align: middle;\n",
       "    }\n",
       "\n",
       "    .dataframe tbody tr th {\n",
       "        vertical-align: top;\n",
       "    }\n",
       "\n",
       "    .dataframe thead th {\n",
       "        text-align: right;\n",
       "    }\n",
       "</style>\n",
       "<table border=\"1\" class=\"dataframe\">\n",
       "  <thead>\n",
       "    <tr style=\"text-align: right;\">\n",
       "      <th></th>\n",
       "      <th>Player Name</th>\n",
       "      <th>Chances Created</th>\n",
       "      <th>Assists</th>\n",
       "      <th>Goals</th>\n",
       "      <th>Club</th>\n",
       "      <th>Manager</th>\n",
       "      <th>Annual Salary</th>\n",
       "    </tr>\n",
       "  </thead>\n",
       "  <tbody>\n",
       "    <tr>\n",
       "      <th>0</th>\n",
       "      <td>Cristiano Ronaldo</td>\n",
       "      <td>85</td>\n",
       "      <td>20</td>\n",
       "      <td>35</td>\n",
       "      <td>Manchester United</td>\n",
       "      <td>Ole Gunnar Solskjær</td>\n",
       "      <td>35000000</td>\n",
       "    </tr>\n",
       "    <tr>\n",
       "      <th>1</th>\n",
       "      <td>Lionel Messi</td>\n",
       "      <td>90</td>\n",
       "      <td>25</td>\n",
       "      <td>30</td>\n",
       "      <td>Paris Saint-Germain</td>\n",
       "      <td>Mauricio Pochettino</td>\n",
       "      <td>40000000</td>\n",
       "    </tr>\n",
       "    <tr>\n",
       "      <th>2</th>\n",
       "      <td>Robert Lewandowski</td>\n",
       "      <td>70</td>\n",
       "      <td>15</td>\n",
       "      <td>40</td>\n",
       "      <td>Bayern Munich</td>\n",
       "      <td>Julian Nagelsmann</td>\n",
       "      <td>25000000</td>\n",
       "    </tr>\n",
       "    <tr>\n",
       "      <th>3</th>\n",
       "      <td>Erling Haaland</td>\n",
       "      <td>60</td>\n",
       "      <td>10</td>\n",
       "      <td>35</td>\n",
       "      <td>Borussia Dortmund</td>\n",
       "      <td>Marco Rose</td>\n",
       "      <td>20000000</td>\n",
       "    </tr>\n",
       "    <tr>\n",
       "      <th>4</th>\n",
       "      <td>Kylian Mbappé</td>\n",
       "      <td>80</td>\n",
       "      <td>18</td>\n",
       "      <td>25</td>\n",
       "      <td>Paris Saint-Germain</td>\n",
       "      <td>Mauricio Pochettino</td>\n",
       "      <td>30000000</td>\n",
       "    </tr>\n",
       "  </tbody>\n",
       "</table>\n",
       "</div>"
      ],
      "text/plain": [
       "          Player Name  Chances Created  Assists  Goals                 Club  \\\n",
       "0   Cristiano Ronaldo               85       20     35    Manchester United   \n",
       "1        Lionel Messi               90       25     30  Paris Saint-Germain   \n",
       "2  Robert Lewandowski               70       15     40        Bayern Munich   \n",
       "3      Erling Haaland               60       10     35    Borussia Dortmund   \n",
       "4       Kylian Mbappé               80       18     25  Paris Saint-Germain   \n",
       "\n",
       "               Manager  Annual Salary  \n",
       "0  Ole Gunnar Solskjær       35000000  \n",
       "1  Mauricio Pochettino       40000000  \n",
       "2    Julian Nagelsmann       25000000  \n",
       "3           Marco Rose       20000000  \n",
       "4  Mauricio Pochettino       30000000  "
      ]
     },
     "execution_count": 6,
     "metadata": {},
     "output_type": "execute_result"
    }
   ],
   "source": [
    "# Create copy of dataset\n",
    "df_copy = df.copy()\n",
    "\n",
    "# Convert Annual Salary dtype to int\n",
    "\n",
    "# Function to convert annual salary\n",
    "def convert_to_int(df):\n",
    "    df['Annual Salary'] = df['Annual Salary'].str.replace(\"$\",\"\")\n",
    "    df['Annual Salary'] = df['Annual Salary'].str.replace(\",\",\"\").astype(int)\n",
    "    return df\n",
    "\n",
    "convert_to_int(df=df_copy)\n",
    "df_copy.head()"
   ]
  },
  {
   "cell_type": "code",
   "execution_count": 7,
   "metadata": {},
   "outputs": [
    {
     "data": {
      "text/html": [
       "<div>\n",
       "<style scoped>\n",
       "    .dataframe tbody tr th:only-of-type {\n",
       "        vertical-align: middle;\n",
       "    }\n",
       "\n",
       "    .dataframe tbody tr th {\n",
       "        vertical-align: top;\n",
       "    }\n",
       "\n",
       "    .dataframe thead th {\n",
       "        text-align: right;\n",
       "    }\n",
       "</style>\n",
       "<table border=\"1\" class=\"dataframe\">\n",
       "  <thead>\n",
       "    <tr style=\"text-align: right;\">\n",
       "      <th></th>\n",
       "      <th>Player Name</th>\n",
       "      <th>Chances Created</th>\n",
       "      <th>Assists</th>\n",
       "      <th>Goals</th>\n",
       "      <th>Club</th>\n",
       "      <th>Manager</th>\n",
       "      <th>Annual Salary</th>\n",
       "      <th>Conversion Rate</th>\n",
       "    </tr>\n",
       "  </thead>\n",
       "  <tbody>\n",
       "    <tr>\n",
       "      <th>0</th>\n",
       "      <td>Cristiano Ronaldo</td>\n",
       "      <td>85</td>\n",
       "      <td>20</td>\n",
       "      <td>35</td>\n",
       "      <td>Manchester United</td>\n",
       "      <td>Ole Gunnar Solskjær</td>\n",
       "      <td>35000000</td>\n",
       "      <td>41.176471</td>\n",
       "    </tr>\n",
       "    <tr>\n",
       "      <th>1</th>\n",
       "      <td>Lionel Messi</td>\n",
       "      <td>90</td>\n",
       "      <td>25</td>\n",
       "      <td>30</td>\n",
       "      <td>Paris Saint-Germain</td>\n",
       "      <td>Mauricio Pochettino</td>\n",
       "      <td>40000000</td>\n",
       "      <td>33.333333</td>\n",
       "    </tr>\n",
       "    <tr>\n",
       "      <th>2</th>\n",
       "      <td>Robert Lewandowski</td>\n",
       "      <td>70</td>\n",
       "      <td>15</td>\n",
       "      <td>40</td>\n",
       "      <td>Bayern Munich</td>\n",
       "      <td>Julian Nagelsmann</td>\n",
       "      <td>25000000</td>\n",
       "      <td>57.142857</td>\n",
       "    </tr>\n",
       "    <tr>\n",
       "      <th>3</th>\n",
       "      <td>Erling Haaland</td>\n",
       "      <td>60</td>\n",
       "      <td>10</td>\n",
       "      <td>35</td>\n",
       "      <td>Borussia Dortmund</td>\n",
       "      <td>Marco Rose</td>\n",
       "      <td>20000000</td>\n",
       "      <td>58.333333</td>\n",
       "    </tr>\n",
       "    <tr>\n",
       "      <th>4</th>\n",
       "      <td>Kylian Mbappé</td>\n",
       "      <td>80</td>\n",
       "      <td>18</td>\n",
       "      <td>25</td>\n",
       "      <td>Paris Saint-Germain</td>\n",
       "      <td>Mauricio Pochettino</td>\n",
       "      <td>30000000</td>\n",
       "      <td>31.250000</td>\n",
       "    </tr>\n",
       "  </tbody>\n",
       "</table>\n",
       "</div>"
      ],
      "text/plain": [
       "          Player Name  Chances Created  Assists  Goals                 Club  \\\n",
       "0   Cristiano Ronaldo               85       20     35    Manchester United   \n",
       "1        Lionel Messi               90       25     30  Paris Saint-Germain   \n",
       "2  Robert Lewandowski               70       15     40        Bayern Munich   \n",
       "3      Erling Haaland               60       10     35    Borussia Dortmund   \n",
       "4       Kylian Mbappé               80       18     25  Paris Saint-Germain   \n",
       "\n",
       "               Manager  Annual Salary  Conversion Rate  \n",
       "0  Ole Gunnar Solskjær       35000000        41.176471  \n",
       "1  Mauricio Pochettino       40000000        33.333333  \n",
       "2    Julian Nagelsmann       25000000        57.142857  \n",
       "3           Marco Rose       20000000        58.333333  \n",
       "4  Mauricio Pochettino       30000000        31.250000  "
      ]
     },
     "execution_count": 7,
     "metadata": {},
     "output_type": "execute_result"
    }
   ],
   "source": [
    "# Create Conversion Rate Column\n",
    "df_copy[\"Conversion Rate\"] = (df_copy[\"Goals\"]/df_copy[\"Chances Created\"])*100\n",
    "df_copy.head()"
   ]
  },
  {
   "cell_type": "code",
   "execution_count": 8,
   "metadata": {},
   "outputs": [
    {
     "name": "stdout",
     "output_type": "stream",
     "text": [
      "Player with highest conversion rate is Erling Haaland with conversion rate of 58.33%\n"
     ]
    }
   ],
   "source": [
    "# Player with Highest Conversion Rate\n",
    "\n",
    "# Sort data by conversion rate\n",
    "df_sorted = df_copy.sort_values(by=\"Conversion Rate\", ascending=False)\n",
    "\n",
    "player_highestCR = df_sorted.loc[:,\"Player Name\"].head(1)\n",
    "\n",
    "# Conversion Rate by player\n",
    "player_CR = df_sorted.loc[:, \"Conversion Rate\"].head(1)\n",
    "\n",
    "print(f\"Player with highest conversion rate is {player_highestCR.iloc[0]} \"\n",
    "      f\"with conversion rate of {player_CR.iloc[0]:.2f}%\")"
   ]
  },
  {
   "cell_type": "code",
   "execution_count": 9,
   "metadata": {},
   "outputs": [
    {
     "data": {
      "text/html": [
       "<div>\n",
       "<style scoped>\n",
       "    .dataframe tbody tr th:only-of-type {\n",
       "        vertical-align: middle;\n",
       "    }\n",
       "\n",
       "    .dataframe tbody tr th {\n",
       "        vertical-align: top;\n",
       "    }\n",
       "\n",
       "    .dataframe thead th {\n",
       "        text-align: right;\n",
       "    }\n",
       "</style>\n",
       "<table border=\"1\" class=\"dataframe\">\n",
       "  <thead>\n",
       "    <tr style=\"text-align: right;\">\n",
       "      <th></th>\n",
       "      <th></th>\n",
       "      <th>Chances Created</th>\n",
       "      <th>Assists</th>\n",
       "      <th>Goals</th>\n",
       "      <th>Manager</th>\n",
       "      <th>Annual Salary</th>\n",
       "      <th>Conversion Rate</th>\n",
       "    </tr>\n",
       "    <tr>\n",
       "      <th>Player Name</th>\n",
       "      <th>Club</th>\n",
       "      <th></th>\n",
       "      <th></th>\n",
       "      <th></th>\n",
       "      <th></th>\n",
       "      <th></th>\n",
       "      <th></th>\n",
       "    </tr>\n",
       "  </thead>\n",
       "  <tbody>\n",
       "    <tr>\n",
       "      <th>Cristiano Ronaldo</th>\n",
       "      <th>Manchester United</th>\n",
       "      <td>85</td>\n",
       "      <td>20</td>\n",
       "      <td>35</td>\n",
       "      <td>Ole Gunnar Solskjær</td>\n",
       "      <td>35000000</td>\n",
       "      <td>41.176471</td>\n",
       "    </tr>\n",
       "    <tr>\n",
       "      <th>Lionel Messi</th>\n",
       "      <th>Paris Saint-Germain</th>\n",
       "      <td>90</td>\n",
       "      <td>25</td>\n",
       "      <td>30</td>\n",
       "      <td>Mauricio Pochettino</td>\n",
       "      <td>40000000</td>\n",
       "      <td>33.333333</td>\n",
       "    </tr>\n",
       "    <tr>\n",
       "      <th>Robert Lewandowski</th>\n",
       "      <th>Bayern Munich</th>\n",
       "      <td>70</td>\n",
       "      <td>15</td>\n",
       "      <td>40</td>\n",
       "      <td>Julian Nagelsmann</td>\n",
       "      <td>25000000</td>\n",
       "      <td>57.142857</td>\n",
       "    </tr>\n",
       "    <tr>\n",
       "      <th>Erling Haaland</th>\n",
       "      <th>Borussia Dortmund</th>\n",
       "      <td>60</td>\n",
       "      <td>10</td>\n",
       "      <td>35</td>\n",
       "      <td>Marco Rose</td>\n",
       "      <td>20000000</td>\n",
       "      <td>58.333333</td>\n",
       "    </tr>\n",
       "    <tr>\n",
       "      <th>Kylian Mbappé</th>\n",
       "      <th>Paris Saint-Germain</th>\n",
       "      <td>80</td>\n",
       "      <td>18</td>\n",
       "      <td>25</td>\n",
       "      <td>Mauricio Pochettino</td>\n",
       "      <td>30000000</td>\n",
       "      <td>31.250000</td>\n",
       "    </tr>\n",
       "  </tbody>\n",
       "</table>\n",
       "</div>"
      ],
      "text/plain": [
       "                                        Chances Created  Assists  Goals  \\\n",
       "Player Name        Club                                                   \n",
       "Cristiano Ronaldo  Manchester United                 85       20     35   \n",
       "Lionel Messi       Paris Saint-Germain               90       25     30   \n",
       "Robert Lewandowski Bayern Munich                     70       15     40   \n",
       "Erling Haaland     Borussia Dortmund                 60       10     35   \n",
       "Kylian Mbappé      Paris Saint-Germain               80       18     25   \n",
       "\n",
       "                                                    Manager  Annual Salary  \\\n",
       "Player Name        Club                                                      \n",
       "Cristiano Ronaldo  Manchester United    Ole Gunnar Solskjær       35000000   \n",
       "Lionel Messi       Paris Saint-Germain  Mauricio Pochettino       40000000   \n",
       "Robert Lewandowski Bayern Munich          Julian Nagelsmann       25000000   \n",
       "Erling Haaland     Borussia Dortmund             Marco Rose       20000000   \n",
       "Kylian Mbappé      Paris Saint-Germain  Mauricio Pochettino       30000000   \n",
       "\n",
       "                                        Conversion Rate  \n",
       "Player Name        Club                                  \n",
       "Cristiano Ronaldo  Manchester United          41.176471  \n",
       "Lionel Messi       Paris Saint-Germain        33.333333  \n",
       "Robert Lewandowski Bayern Munich              57.142857  \n",
       "Erling Haaland     Borussia Dortmund          58.333333  \n",
       "Kylian Mbappé      Paris Saint-Germain        31.250000  "
      ]
     },
     "execution_count": 9,
     "metadata": {},
     "output_type": "execute_result"
    }
   ],
   "source": [
    "# Create a hierarchical index\n",
    "\n",
    "df_copy.set_index([\"Player Name\", \"Club\"],inplace=True)\n",
    "df_copy.head()"
   ]
  },
  {
   "cell_type": "code",
   "execution_count": 10,
   "metadata": {},
   "outputs": [
    {
     "name": "stdout",
     "output_type": "stream",
     "text": [
      "The annual salary of Romelu Lukaku is 27000000\n"
     ]
    }
   ],
   "source": [
    "# Fetch annual salary of Romelu Lukaku\n",
    "salary_lukaku = df_copy.loc[(\"Romelu Lukaku\",\"Chelsea\"),\"Annual Salary\"]\n",
    "print(f\"The annual salary of Romelu Lukaku is {salary_lukaku}\")"
   ]
  },
  {
   "cell_type": "code",
   "execution_count": 11,
   "metadata": {},
   "outputs": [
    {
     "data": {
      "text/plain": [
       "                 Player Name         Club               \n",
       "Chances Created  Cristiano Ronaldo   Manchester United      85\n",
       "                 Lionel Messi        Paris Saint-Germain    90\n",
       "                 Robert Lewandowski  Bayern Munich          70\n",
       "                 Erling Haaland      Borussia Dortmund      60\n",
       "                 Kylian Mbappé       Paris Saint-Germain    80\n",
       "dtype: object"
      ]
     },
     "execution_count": 11,
     "metadata": {},
     "output_type": "execute_result"
    }
   ],
   "source": [
    "# Unsstack the dataset\n",
    "\n",
    "df2 = df_copy.unstack(level=[\"Player Name\",\"Club\"])\n",
    "df2.head()"
   ]
  },
  {
   "cell_type": "code",
   "execution_count": 12,
   "metadata": {},
   "outputs": [
    {
     "data": {
      "text/plain": [
       "75"
      ]
     },
     "execution_count": 12,
     "metadata": {},
     "output_type": "execute_result"
    }
   ],
   "source": [
    "# Sort the data index\n",
    "df2.sort_index(inplace=True)\n",
    "\n",
    "# Karim Benzema Chances Created\n",
    "df2.loc[(\"Chances Created\",\"Karim Benzema\")].iloc[0]"
   ]
  },
  {
   "cell_type": "code",
   "execution_count": 13,
   "metadata": {},
   "outputs": [
    {
     "name": "stdout",
     "output_type": "stream",
     "text": [
      "The combined annual salary of Lionel Messi and Kylian Mbappe is $70000000\n"
     ]
    }
   ],
   "source": [
    "# Combined salary of Lionel Messi and Kylian Mbappe\n",
    "\n",
    "# Messi's Annual Salary\n",
    "messi_salary = df2.loc[(\"Annual Salary\",\"Lionel Messi\")].iloc[0]\n",
    "\n",
    "# Mbappe's Annual Salary\n",
    "mbappe_salary = df2.loc[(\"Annual Salary\",\"Kylian Mbappé\")].iloc[0]\n",
    "\n",
    "combined_salary = messi_salary + mbappe_salary\n",
    "print(f\"The combined annual salary of Lionel Messi and Kylian Mbappe is ${combined_salary}\")"
   ]
  }
 ],
 "metadata": {
  "kernelspec": {
   "display_name": "Python 3",
   "language": "python",
   "name": "python3"
  },
  "language_info": {
   "codemirror_mode": {
    "name": "ipython",
    "version": 3
   },
   "file_extension": ".py",
   "mimetype": "text/x-python",
   "name": "python",
   "nbconvert_exporter": "python",
   "pygments_lexer": "ipython3",
   "version": "3.12.2"
  }
 },
 "nbformat": 4,
 "nbformat_minor": 2
}
