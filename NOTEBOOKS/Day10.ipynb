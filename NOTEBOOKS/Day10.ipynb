{
 "cells": [
  {
   "cell_type": "markdown",
   "metadata": {},
   "source": [
    " # The arange Function and Boolean Indexing\n"
   ]
  },
  {
   "cell_type": "code",
   "execution_count": 1,
   "metadata": {},
   "outputs": [],
   "source": [
    "# Import the needed libraries\n",
    "\n",
    "import numpy as np"
   ]
  },
  {
   "cell_type": "code",
   "execution_count": 2,
   "metadata": {},
   "outputs": [
    {
     "data": {
      "text/plain": [
       "array([ 0,  5, 10, 15, 20, 25, 30, 35, 40, 45])"
      ]
     },
     "execution_count": 2,
     "metadata": {},
     "output_type": "execute_result"
    }
   ],
   "source": [
    "# Create array with arange function\n",
    "\n",
    "num = 50\n",
    "array = np.arange(num, step=5)\n",
    "array"
   ]
  },
  {
   "cell_type": "code",
   "execution_count": 3,
   "metadata": {},
   "outputs": [
    {
     "name": "stdout",
     "output_type": "stream",
     "text": [
      "Numbers in the array greater than 25 are [30 35 40 45]\n"
     ]
    }
   ],
   "source": [
    "# Numbers greater than 25\n",
    "\n",
    "num_greater_25_indices = np.where(array > 25)\n",
    "num_greater_25 = array[num_greater_25_indices]\n",
    "print(f'Numbers in the array greater than 25 are {num_greater_25}')"
   ]
  },
  {
   "cell_type": "code",
   "execution_count": 4,
   "metadata": {},
   "outputs": [],
   "source": [
    "days = [\"mon\", \"tue\", \"wed\", \"thu\", \"Fri\"]\n",
    "hours_worked = [ 8, 8, 10, 11, 7]\n",
    "\n",
    "# Create arrays from lists above\n",
    "\n",
    "days = np.array(days)\n",
    "hours_worked = np.array(hours_worked)"
   ]
  },
  {
   "cell_type": "code",
   "execution_count": 5,
   "metadata": {},
   "outputs": [
    {
     "data": {
      "text/plain": [
       "array(['mon', 'tue'], dtype='<U3')"
      ]
     },
     "execution_count": 5,
     "metadata": {},
     "output_type": "execute_result"
    }
   ],
   "source": [
    "# Indices of hours worked is 8\n",
    "hours_worked_8 = np.where(hours_worked == 8)\n",
    "\n",
    "# Create array of days where the hours worked is 8\n",
    "days_hours_worked_8 = days[hours_worked_8]\n",
    "days_hours_worked_8"
   ]
  },
  {
   "cell_type": "code",
   "execution_count": 6,
   "metadata": {},
   "outputs": [
    {
     "name": "stdout",
     "output_type": "stream",
     "text": [
      "The day with the highest number of hours worked is thu\n"
     ]
    }
   ],
   "source": [
    "# Index of the highest number of hours worked\n",
    "index_highest_hours = np.argmax(hours_worked)\n",
    "\n",
    "# Day with the highest number of hours worked\n",
    "day_highest_hours = days[index_highest_hours]\n",
    "\n",
    "print(f'The day with the highest number of hours worked is {day_highest_hours}')\n"
   ]
  },
  {
   "cell_type": "code",
   "execution_count": 7,
   "metadata": {},
   "outputs": [
    {
     "data": {
      "text/plain": [
       "array(['wed', 'thu'], dtype='<U3')"
      ]
     },
     "execution_count": 7,
     "metadata": {},
     "output_type": "execute_result"
    }
   ],
   "source": [
    "# Days with over 9 hours of work were achieved\n",
    "\n",
    "# Index of the highest number of hours worked\n",
    "index_over_9hours = np.where(hours_worked > 9)\n",
    "\n",
    "days[index_over_9hours]\n"
   ]
  }
 ],
 "metadata": {
  "kernelspec": {
   "display_name": "Python 3",
   "language": "python",
   "name": "python3"
  },
  "language_info": {
   "codemirror_mode": {
    "name": "ipython",
    "version": 3
   },
   "file_extension": ".py",
   "mimetype": "text/x-python",
   "name": "python",
   "nbconvert_exporter": "python",
   "pygments_lexer": "ipython3",
   "version": "3.11.5"
  }
 },
 "nbformat": 4,
 "nbformat_minor": 2
}
