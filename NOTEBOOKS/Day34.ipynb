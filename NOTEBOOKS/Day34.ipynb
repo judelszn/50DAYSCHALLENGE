{
 "cells": [
  {
   "cell_type": "markdown",
   "metadata": {},
   "source": [
    "#  Income Data Analysis"
   ]
  },
  {
   "cell_type": "code",
   "execution_count": 1,
   "metadata": {},
   "outputs": [],
   "source": [
    "# Import necessary libraries\n",
    "\n",
    "import numpy as np\n",
    "import pandas as pd\n",
    "import matplotlib.pyplot as plt\n",
    "import seaborn as sns"
   ]
  },
  {
   "cell_type": "code",
   "execution_count": 2,
   "metadata": {},
   "outputs": [
    {
     "data": {
      "text/html": [
       "<div>\n",
       "<style scoped>\n",
       "    .dataframe tbody tr th:only-of-type {\n",
       "        vertical-align: middle;\n",
       "    }\n",
       "\n",
       "    .dataframe tbody tr th {\n",
       "        vertical-align: top;\n",
       "    }\n",
       "\n",
       "    .dataframe thead th {\n",
       "        text-align: right;\n",
       "    }\n",
       "</style>\n",
       "<table border=\"1\" class=\"dataframe\">\n",
       "  <thead>\n",
       "    <tr style=\"text-align: right;\">\n",
       "      <th></th>\n",
       "      <th>Name</th>\n",
       "      <th>Age</th>\n",
       "      <th>Height</th>\n",
       "      <th>Gender</th>\n",
       "      <th>Income</th>\n",
       "    </tr>\n",
       "  </thead>\n",
       "  <tbody>\n",
       "    <tr>\n",
       "      <th>0</th>\n",
       "      <td>Alice</td>\n",
       "      <td>25</td>\n",
       "      <td>5.5</td>\n",
       "      <td>F</td>\n",
       "      <td>30000</td>\n",
       "    </tr>\n",
       "    <tr>\n",
       "      <th>1</th>\n",
       "      <td>Bob</td>\n",
       "      <td>35</td>\n",
       "      <td>5.9</td>\n",
       "      <td>M</td>\n",
       "      <td>40000</td>\n",
       "    </tr>\n",
       "    <tr>\n",
       "      <th>2</th>\n",
       "      <td>Charlie</td>\n",
       "      <td>45</td>\n",
       "      <td>6.2</td>\n",
       "      <td>M</td>\n",
       "      <td>50000</td>\n",
       "    </tr>\n",
       "    <tr>\n",
       "      <th>3</th>\n",
       "      <td>Debbie</td>\n",
       "      <td>55</td>\n",
       "      <td>6.6</td>\n",
       "      <td>F</td>\n",
       "      <td>60000</td>\n",
       "    </tr>\n",
       "    <tr>\n",
       "      <th>4</th>\n",
       "      <td>Edward</td>\n",
       "      <td>65</td>\n",
       "      <td>6.1</td>\n",
       "      <td>M</td>\n",
       "      <td>70000</td>\n",
       "    </tr>\n",
       "  </tbody>\n",
       "</table>\n",
       "</div>"
      ],
      "text/plain": [
       "       Name  Age  Height Gender  Income\n",
       "0     Alice   25     5.5      F   30000\n",
       "1       Bob   35     5.9      M   40000\n",
       "2  Charlie    45     6.2      M   50000\n",
       "3    Debbie   55     6.6      F   60000\n",
       "4    Edward   65     6.1      M   70000"
      ]
     },
     "execution_count": 2,
     "metadata": {},
     "output_type": "execute_result"
    }
   ],
   "source": [
    "# Import dataset from csv file\n",
    "\n",
    "df = pd.read_csv(\"../DATA/income_data.csv\")\n",
    "df.head()"
   ]
  },
  {
   "cell_type": "code",
   "execution_count": 3,
   "metadata": {},
   "outputs": [
    {
     "name": "stdout",
     "output_type": "stream",
     "text": [
      "<class 'pandas.core.frame.DataFrame'>\n",
      "RangeIndex: 10 entries, 0 to 9\n",
      "Data columns (total 5 columns):\n",
      " #   Column  Non-Null Count  Dtype  \n",
      "---  ------  --------------  -----  \n",
      " 0   Name    10 non-null     object \n",
      " 1   Age     10 non-null     int64  \n",
      " 2   Height  10 non-null     float64\n",
      " 3   Gender  10 non-null     object \n",
      " 4   Income  10 non-null     int64  \n",
      "dtypes: float64(1), int64(2), object(2)\n",
      "memory usage: 532.0+ bytes\n"
     ]
    }
   ],
   "source": [
    "# Details of the dataset\n",
    "df.info()"
   ]
  },
  {
   "cell_type": "code",
   "execution_count": 4,
   "metadata": {},
   "outputs": [
    {
     "data": {
      "text/plain": [
       "Gender\n",
       "M    6\n",
       "F    4\n",
       "Name: count, dtype: int64"
      ]
     },
     "execution_count": 4,
     "metadata": {},
     "output_type": "execute_result"
    }
   ],
   "source": [
    "# Check number of of both sexes\n",
    "\n",
    "df['Gender'].value_counts()"
   ]
  },
  {
   "cell_type": "code",
   "execution_count": 5,
   "metadata": {},
   "outputs": [
    {
     "name": "stdout",
     "output_type": "stream",
     "text": [
      "Edward's height is 6.1\n"
     ]
    }
   ],
   "source": [
    "# Edward's height\n",
    "\n",
    "edward_height = df.loc[df['Name']=='Edward','Height']\n",
    "print(f\"Edward's height is {edward_height.iloc[0]}\")"
   ]
  },
  {
   "cell_type": "code",
   "execution_count": 6,
   "metadata": {},
   "outputs": [
    {
     "data": {
      "text/html": [
       "<div>\n",
       "<style scoped>\n",
       "    .dataframe tbody tr th:only-of-type {\n",
       "        vertical-align: middle;\n",
       "    }\n",
       "\n",
       "    .dataframe tbody tr th {\n",
       "        vertical-align: top;\n",
       "    }\n",
       "\n",
       "    .dataframe thead th {\n",
       "        text-align: right;\n",
       "    }\n",
       "</style>\n",
       "<table border=\"1\" class=\"dataframe\">\n",
       "  <thead>\n",
       "    <tr style=\"text-align: right;\">\n",
       "      <th></th>\n",
       "      <th>Name</th>\n",
       "      <th>Age</th>\n",
       "      <th>Height</th>\n",
       "      <th>Gender</th>\n",
       "      <th>Income</th>\n",
       "    </tr>\n",
       "  </thead>\n",
       "  <tbody>\n",
       "    <tr>\n",
       "      <th>0</th>\n",
       "      <td>Alice</td>\n",
       "      <td>25</td>\n",
       "      <td>5.5</td>\n",
       "      <td>F</td>\n",
       "      <td>30000</td>\n",
       "    </tr>\n",
       "    <tr>\n",
       "      <th>1</th>\n",
       "      <td>Debbie</td>\n",
       "      <td>55</td>\n",
       "      <td>6.6</td>\n",
       "      <td>F</td>\n",
       "      <td>60000</td>\n",
       "    </tr>\n",
       "    <tr>\n",
       "      <th>2</th>\n",
       "      <td>Greta</td>\n",
       "      <td>76</td>\n",
       "      <td>6.3</td>\n",
       "      <td>F</td>\n",
       "      <td>90000</td>\n",
       "    </tr>\n",
       "    <tr>\n",
       "      <th>3</th>\n",
       "      <td>Ivy</td>\n",
       "      <td>60</td>\n",
       "      <td>6.7</td>\n",
       "      <td>F</td>\n",
       "      <td>110000</td>\n",
       "    </tr>\n",
       "  </tbody>\n",
       "</table>\n",
       "</div>"
      ],
      "text/plain": [
       "     Name  Age  Height Gender  Income\n",
       "0   Alice   25     5.5      F   30000\n",
       "1  Debbie   55     6.6      F   60000\n",
       "2   Greta   76     6.3      F   90000\n",
       "3     Ivy   60     6.7      F  110000"
      ]
     },
     "execution_count": 6,
     "metadata": {},
     "output_type": "execute_result"
    }
   ],
   "source": [
    "# Female subset of the dataset\n",
    "\n",
    "df_female = df.loc[df['Gender']=='F'].reset_index(drop=True)\n",
    "df_female"
   ]
  },
  {
   "cell_type": "code",
   "execution_count": 7,
   "metadata": {},
   "outputs": [
    {
     "name": "stdout",
     "output_type": "stream",
     "text": [
      "The average income per female is $72500.00\n"
     ]
    }
   ],
   "source": [
    "# Average income per female\n",
    "\n",
    "avg_income_per_female = df_female['Income'].mean()\n",
    "print(f\"The average income per female is ${avg_income_per_female:.2f}\")"
   ]
  },
  {
   "cell_type": "code",
   "execution_count": 8,
   "metadata": {},
   "outputs": [
    {
     "data": {
      "image/png": "[encoded data removed]",
      "text/plain": [
       "<Figure size 1200x800 with 1 Axes>"
      ]
     },
     "metadata": {},
     "output_type": "display_data"
    }
   ],
   "source": [
    "# Scatter plot of age and income\n",
    "\n",
    "fig,ax = plt.subplots(figsize=(12,8))\n",
    "ax.scatter(x='Age',y='Income',data=df)\n",
    "ax.set(xlabel=\"Age of Individuals\",ylabel=\"Total Income\")\n",
    "plt.title(label=\"Plot of Age against Income\",\n",
    "          fontdict={'fontsize':20, 'fontweight':'bold'})\n",
    "plt.show()"
   ]
  },
  {
   "cell_type": "code",
   "execution_count": 9,
   "metadata": {},
   "outputs": [
    {
     "name": "stdout",
     "output_type": "stream",
     "text": [
      "Average income of over 50 males is $92500.00\n",
      "Average income of over 50 females is $86666.67\n"
     ]
    },
    {
     "data": {
      "image/png": "[encoded data removed]",
      "text/plain": [
       "<Figure size 1200x800 with 1 Axes>"
      ]
     },
     "metadata": {},
     "output_type": "display_data"
    }
   ],
   "source": [
    "# Barplot of average income of over 50 individuals for each gender\n",
    "\n",
    "# Average income of over 50 males\n",
    "avg_income_o50_male = df[(df['Gender']=='M') & (df['Age']>50)]['Income'].mean()\n",
    "\n",
    "# Average income of over 50 females\n",
    "avg_income_o50_female = df[(df['Gender']=='F') & (df['Age']>50)]['Income'].mean()\n",
    "\n",
    "print(f\"Average income of over 50 males is ${avg_income_o50_male:.2f}\")\n",
    "print(f\"Average income of over 50 females is ${avg_income_o50_female:.2f}\")\n",
    "\n",
    "# Data frame of average income of both genders\n",
    "data = {'Gender':['Male','Female'], 'Avg_Income':[avg_income_o50_male,avg_income_o50_female]}\n",
    "bar_df = pd.DataFrame(data)\n",
    "\n",
    "# Plot the data\n",
    "fig,ax = plt.subplots(figsize=(12,8))\n",
    "ax.bar(x=bar_df['Gender'],height=bar_df['Avg_Income'])\n",
    "ax.set(xlabel='Gender',ylabel='Average Income')\n",
    "plt.title(label=\"Average Income Per Gender over 50 years\",\n",
    "          fontdict={'fontsize':20, 'fontweight':'bold'})\n",
    "plt.show()"
   ]
  }
 ],
 "metadata": {
  "kernelspec": {
   "display_name": "Python 3",
   "language": "python",
   "name": "python3"
  },
  "language_info": {
   "codemirror_mode": {
    "name": "ipython",
    "version": 3
   },
   "file_extension": ".py",
   "mimetype": "text/x-python",
   "name": "python",
   "nbconvert_exporter": "python",
   "pygments_lexer": "ipython3",
   "version": "3.12.2"
  }
 },
 "nbformat": 4,
 "nbformat_minor": 2
}
