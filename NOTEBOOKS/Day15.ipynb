{
 "cells": [
  {
   "cell_type": "markdown",
   "metadata": {},
   "source": [
    "# Analyse Data with NumPy Part - 2"
   ]
  },
  {
   "cell_type": "code",
   "execution_count": 1,
   "metadata": {},
   "outputs": [],
   "source": [
    "# Import necessary libraries\n",
    "\n",
    "import numpy as np"
   ]
  },
  {
   "cell_type": "code",
   "execution_count": 2,
   "metadata": {},
   "outputs": [
    {
     "data": {
      "text/plain": [
       "array([['Name', 'Sex', 'Age'],\n",
       "       ['Grace', 'Male', '18'],\n",
       "       ['Charlie', 'Female', '60'],\n",
       "       ['Olivia', 'Female', '27'],\n",
       "       ['Frank', 'Male', '55'],\n",
       "       ['Charlie', 'Male', '53'],\n",
       "       ['Olivia', 'Male', '39'],\n",
       "       ['Mia', 'Female', '60'],\n",
       "       ['Jos', 'Male', '56'],\n",
       "       ['Peter', 'Male', '44'],\n",
       "       ['Olivia', 'Female', '57'],\n",
       "       ['Charlie', 'Female', '41'],\n",
       "       ['David', 'Female', '39'],\n",
       "       ['Kate', 'Female', '49'],\n",
       "       ['Thomas', 'Female', '37'],\n",
       "       ['Alice', 'Female', '63'],\n",
       "       ['Rob', 'Male', '56'],\n",
       "       ['Piper', 'Female', '96'],\n",
       "       ['Kate', 'Female', '41'],\n",
       "       ['Liam', 'Female', '19'],\n",
       "       ['Quinn', 'Female', '34'],\n",
       "       ['Charlie', 'Male', '54'],\n",
       "       ['David', 'Male', '18'],\n",
       "       ['Ryan', 'Female', '49'],\n",
       "       ['Kate', 'Male', '19'],\n",
       "       ['John', 'Male', '21'],\n",
       "       ['kelly', 'Female', '21']], dtype='<U7')"
      ]
     },
     "execution_count": 2,
     "metadata": {},
     "output_type": "execute_result"
    }
   ],
   "source": [
    "#Import CSV file with genfromtxt function\n",
    "\n",
    "array = np.genfromtxt(fname=\"C:/Users/HP/Documents/50DaysChallenge/DATA/names_age_sex_data.csv\", delimiter=\",\",dtype=\"U7\")\n",
    "array"
   ]
  },
  {
   "cell_type": "code",
   "execution_count": 3,
   "metadata": {},
   "outputs": [
    {
     "data": {
      "text/plain": [
       "array([['Name', 'Grace', 'Charlie', 'Olivia', 'Frank', 'Charlie',\n",
       "        'Olivia', 'Mia', 'Jos', 'Peter', 'Olivia', 'Charlie', 'David',\n",
       "        'Kate', 'Thomas', 'Alice', 'Rob', 'Piper', 'Kate', 'Liam',\n",
       "        'Quinn', 'Charlie', 'David', 'Ryan', 'Kate', 'John', 'kelly'],\n",
       "       ['Sex', 'Male', 'Female', 'Female', 'Male', 'Male', 'Male',\n",
       "        'Female', 'Male', 'Male', 'Female', 'Female', 'Female', 'Female',\n",
       "        'Female', 'Female', 'Male', 'Female', 'Female', 'Female',\n",
       "        'Female', 'Male', 'Male', 'Female', 'Male', 'Male', 'Female'],\n",
       "       ['Age', '18', '60', '27', '55', '53', '39', '60', '56', '44',\n",
       "        '57', '41', '39', '49', '37', '63', '56', '96', '41', '19', '34',\n",
       "        '54', '18', '49', '19', '21', '21']], dtype='<U7')"
      ]
     },
     "execution_count": 3,
     "metadata": {},
     "output_type": "execute_result"
    }
   ],
   "source": [
    "# Transpose array\n",
    "\n",
    "array_transpose = array.T\n",
    "array_transpose"
   ]
  },
  {
   "cell_type": "code",
   "execution_count": 4,
   "metadata": {},
   "outputs": [
    {
     "data": {
      "text/plain": [
       "array([['18', '60', '27', '55', '53', '39', '60', '56', '44', '57', '41',\n",
       "        '39', '49', '37', '63', '56', '96', '41', '19', '34', '54', '18',\n",
       "        '49', '19', '21', '21']], dtype='<U7')"
      ]
     },
     "execution_count": 4,
     "metadata": {},
     "output_type": "execute_result"
    }
   ],
   "source": [
    "# Array of different columns\n",
    "\n",
    "names = array_transpose[0:1,1:]\n",
    "\n",
    "age = array_transpose[2:,1:]\n",
    "\n",
    "gender = array_transpose[1:2,1:]\n",
    "\n",
    "age"
   ]
  },
  {
   "cell_type": "code",
   "execution_count": 5,
   "metadata": {},
   "outputs": [
    {
     "name": "stdout",
     "output_type": "stream",
     "text": [
      "The names of people who 56 years of age: ['Jos' 'Rob']\n"
     ]
    }
   ],
   "source": [
    "# Names of people who 56 years of age\n",
    "\n",
    "index_56_years = np.where(age == \"56\")\n",
    "\n",
    "names_56_years = names[index_56_years]\n",
    "\n",
    "print('The names of people who 56 years of age:', names_56_years)"
   ]
  },
  {
   "cell_type": "code",
   "execution_count": 6,
   "metadata": {},
   "outputs": [
    {
     "data": {
      "text/plain": [
       "array(['Jos', 'Rob'], dtype='<U7')"
      ]
     },
     "execution_count": 6,
     "metadata": {},
     "output_type": "execute_result"
    }
   ],
   "source": [
    "names_56_years"
   ]
  },
  {
   "cell_type": "code",
   "execution_count": 7,
   "metadata": {},
   "outputs": [
    {
     "name": "stdout",
     "output_type": "stream",
     "text": [
      "Number of people who are 44 years or under is 14\n"
     ]
    }
   ],
   "source": [
    "# Number of people who are 44 or under\n",
    "\n",
    "# Convert age to int \n",
    "age = age.astype(int)\n",
    "\n",
    "fortyfour_or_under = np.where(age <= 44)\n",
    "\n",
    "names_fortyfour_or_under = names[fortyfour_or_under]\n",
    "number_of_ = np.shape(names_fortyfour_or_under)\n",
    "\n",
    "print('Number of people who are 44 years or under is',number_of_[0]) "
   ]
  },
  {
   "cell_type": "code",
   "execution_count": 8,
   "metadata": {},
   "outputs": [
    {
     "name": "stdout",
     "output_type": "stream",
     "text": [
      "['Grace' 'Frank' 'Charlie' 'Olivia' 'Jos' 'Peter' 'Rob' 'Charlie' 'David'\n",
      " 'Kate' 'John']\n"
     ]
    }
   ],
   "source": [
    "# Males in dataset\n",
    "\n",
    "index_males = np.where(gender == 'Male')\n",
    "\n",
    "male = names[index_males]\n",
    "print(male)"
   ]
  },
  {
   "cell_type": "code",
   "execution_count": 9,
   "metadata": {},
   "outputs": [
    {
     "name": "stdout",
     "output_type": "stream",
     "text": [
      "The average age of female in the table is 46.2\n"
     ]
    }
   ],
   "source": [
    "# Average age of female\n",
    "\n",
    "index_females = np.where(gender == 'Female')\n",
    "\n",
    "average_age_female = age[index_females].mean()\n",
    "\n",
    "print(f'The average age of female in the table is {average_age_female}')"
   ]
  },
  {
   "cell_type": "code",
   "execution_count": 10,
   "metadata": {},
   "outputs": [
    {
     "name": "stdout",
     "output_type": "stream",
     "text": [
      "The average age of people named Olivia and Kate in the table is 38.67\n"
     ]
    }
   ],
   "source": [
    "# Average age of people named Olivia and Kate in the table\n",
    "\n",
    "kate_age = age[names == \"Kate\"]\n",
    "olivia_age = age[names == \"Olivia\"]\n",
    "\n",
    "average_age_kate_olivia = np.array([kate_age,olivia_age]).mean()\n",
    "\n",
    "print(f'The average age of people named Olivia and Kate in the table is {average_age_kate_olivia:.2f}')"
   ]
  }
 ],
 "metadata": {
  "kernelspec": {
   "display_name": "Python 3",
   "language": "python",
   "name": "python3"
  },
  "language_info": {
   "codemirror_mode": {
    "name": "ipython",
    "version": 3
   },
   "file_extension": ".py",
   "mimetype": "text/x-python",
   "name": "python",
   "nbconvert_exporter": "python",
   "pygments_lexer": "ipython3",
   "version": "3.11.5"
  }
 },
 "nbformat": 4,
 "nbformat_minor": 2
}
