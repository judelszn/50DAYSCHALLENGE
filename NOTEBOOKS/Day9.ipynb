{
 "cells": [
  {
   "cell_type": "markdown",
   "metadata": {},
   "source": [
    " # Analyze a One-Dimensional Array\n"
   ]
  },
  {
   "cell_type": "code",
   "execution_count": 2,
   "metadata": {},
   "outputs": [],
   "source": [
    "# Import the needed libraries\n",
    "\n",
    "import numpy as np"
   ]
  },
  {
   "cell_type": "code",
   "execution_count": 3,
   "metadata": {},
   "outputs": [
    {
     "data": {
      "text/plain": [
       "array([12,  4,  6,  7,  9, 19, 21, 67,  8])"
      ]
     },
     "execution_count": 3,
     "metadata": {},
     "output_type": "execute_result"
    }
   ],
   "source": [
    "nums = [12,4,6,7,9,19,21,67,8]\n",
    "\n",
    "# Create one-dimensional array\n",
    "array = np.array(nums)\n",
    "array"
   ]
  },
  {
   "cell_type": "code",
   "execution_count": 4,
   "metadata": {},
   "outputs": [
    {
     "name": "stdout",
     "output_type": "stream",
     "text": [
      "The minimum number of in the array is 4\n"
     ]
    }
   ],
   "source": [
    "# Minimum number of in the array\n",
    "\n",
    "mini = array.min()\n",
    "print(f'The minimum number of in the array is {mini}')"
   ]
  },
  {
   "cell_type": "code",
   "execution_count": 5,
   "metadata": {},
   "outputs": [
    {
     "name": "stdout",
     "output_type": "stream",
     "text": [
      "The minimum number of in the array is 4\n"
     ]
    }
   ],
   "source": [
    "# OR\n",
    "mini = np.min(array)\n",
    "print(f'The minimum number of in the array is {mini}')"
   ]
  },
  {
   "cell_type": "code",
   "execution_count": 7,
   "metadata": {},
   "outputs": [
    {
     "name": "stdout",
     "output_type": "stream",
     "text": [
      "The index of largest element in the in the array is 7\n"
     ]
    }
   ],
   "source": [
    "# Index of the largest element in the array\n",
    "\n",
    "index_largest = np.argmax(array)\n",
    "print(f'The index of largest element in the in the array is {index_largest}')"
   ]
  },
  {
   "cell_type": "code",
   "execution_count": 9,
   "metadata": {},
   "outputs": [
    {
     "name": "stdout",
     "output_type": "stream",
     "text": [
      "The average of largest and smallest elements in the array is 4.0\n"
     ]
    }
   ],
   "source": [
    "# Average of biggest and smallest elements in the array\n",
    "\n",
    "min_num = np.min(array)\n",
    "max_num = np.max(array)\n",
    "average = np.array(min_num,max_num).mean()\n",
    "print(f'The average of largest and smallest elements in the array is {average}')"
   ]
  },
  {
   "cell_type": "code",
   "execution_count": 11,
   "metadata": {},
   "outputs": [
    {
     "name": "stdout",
     "output_type": "stream",
     "text": [
      "The mean of the array is 17.0\n",
      "The median of the array is 9.0\n",
      "The std of the array is 18.5\n"
     ]
    }
   ],
   "source": [
    "# Find the mean, median, and standard deviation\n",
    "\n",
    "mean = np.mean(array)\n",
    "median = np.median(array)\n",
    "std = np.std(array)\n",
    "\n",
    "print(f'The mean of the array is {mean}')\n",
    "print(f'The median of the array is {median}')\n",
    "print(f'The std of the array is {std.round(2)}')"
   ]
  },
  {
   "cell_type": "code",
   "execution_count": 12,
   "metadata": {},
   "outputs": [],
   "source": [
    "# Find outliers\n",
    "sorted_array = np.sort(array)\n",
    "\n",
    "def calculate_outlier(array):\n",
    "    q1 = np.percentile(array,25)\n",
    "    q3 = np.percentile(array,75)\n",
    "    iqr = q3 - q1\n",
    "    lower_bound = q1 - 1.5 * iqr\n",
    "    upper_bound = q3 + 1.5 * iqr\n",
    "    outliers = [x for x in array if x < lower_bound or x > upper_bound]\n",
    "    return outliers"
   ]
  },
  {
   "cell_type": "code",
   "execution_count": 13,
   "metadata": {},
   "outputs": [
    {
     "data": {
      "text/plain": [
       "[67]"
      ]
     },
     "execution_count": 13,
     "metadata": {},
     "output_type": "execute_result"
    }
   ],
   "source": [
    "calculate_outlier(sorted_array)"
   ]
  },
  {
   "cell_type": "code",
   "execution_count": null,
   "metadata": {},
   "outputs": [],
   "source": []
  }
 ],
 "metadata": {
  "kernelspec": {
   "display_name": "Python 3",
   "language": "python",
   "name": "python3"
  },
  "language_info": {
   "codemirror_mode": {
    "name": "ipython",
    "version": 3
   },
   "file_extension": ".py",
   "mimetype": "text/x-python",
   "name": "python",
   "nbconvert_exporter": "python",
   "pygments_lexer": "ipython3",
   "version": "3.11.5"
  }
 },
 "nbformat": 4,
 "nbformat_minor": 2
}
