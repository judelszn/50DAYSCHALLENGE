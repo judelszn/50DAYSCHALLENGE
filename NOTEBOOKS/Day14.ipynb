{
 "cells": [
  {
   "cell_type": "markdown",
   "metadata": {},
   "source": [
    "#  Analyze Data with NumPy Part - 1"
   ]
  },
  {
   "cell_type": "code",
   "execution_count": 1,
   "metadata": {},
   "outputs": [],
   "source": [
    "# Import necessary libraries\n",
    "\n",
    "import numpy as np"
   ]
  },
  {
   "cell_type": "code",
   "execution_count": 2,
   "metadata": {},
   "outputs": [
    {
     "data": {
      "text/plain": [
       "array([['Kelly', 'Ben', 'Jack', 'Muhammad', 'Jose', 'Liz'],\n",
       "       ['45', '65', '75', '35', '85', '40'],\n",
       "       ['a', 'c', 'e', 'g', 'e', 'f']], dtype='<U11')"
      ]
     },
     "execution_count": 2,
     "metadata": {},
     "output_type": "execute_result"
    }
   ],
   "source": [
    "names = [\"Kelly\", \"Ben\", \"Jack\", \"Muhammad\", \"Jose\", \"Liz\"]\n",
    "grades = [45,65,75,35,85,40]\n",
    "classes = [\"a\", \"c\", \"e\", \"g\", \"e\", \"f\"]\n",
    "\n",
    "# Create array of lists above\n",
    "array = np.array([names, grades, classes])\n",
    "array "
   ]
  },
  {
   "cell_type": "code",
   "execution_count": 3,
   "metadata": {},
   "outputs": [],
   "source": [
    "# Index names\n",
    "names = array[0:1,0:]\n",
    "\n",
    "#Index grades\n",
    "grades = array[1:2,0:].astype(int)\n",
    "\n",
    "#Index classes\n",
    "classes = array[2:,0:]"
   ]
  },
  {
   "cell_type": "code",
   "execution_count": 4,
   "metadata": {},
   "outputs": [
    {
     "name": "stdout",
     "output_type": "stream",
     "text": [
      "Students from class 'e' with over 50 grade are: ['Jack' 'Jose']\n",
      "The number of students in class e with over 50 grade is 2.\n"
     ]
    }
   ],
   "source": [
    "# Index of students in class 'e' and over 50\n",
    "index = np.where((classes==\"e\") & (grades>50))\n",
    "\n",
    "# Names of students\n",
    "over_50_names = names[index]\n",
    "\n",
    "# Length of names\n",
    "no_over_50_names = len(names[index])\n",
    "\n",
    "print(\"Students from class 'e' with over 50 grade are:\",over_50_names)\n",
    "print(f\"The number of students in class e with over 50 grade is {no_over_50_names}.\")"
   ]
  },
  {
   "cell_type": "code",
   "execution_count": 5,
   "metadata": {},
   "outputs": [
    {
     "name": "stdout",
     "output_type": "stream",
     "text": [
      "Names of students with less than 75 marks are: ['Kelly' 'Ben' 'Muhammad' 'Liz']\n"
     ]
    }
   ],
   "source": [
    "# Names of students with less than 75 marks\n",
    "\n",
    "index_less_75 = np.where(grades < 75)\n",
    "\n",
    "less_75_names = names[index_less_75]\n",
    "\n",
    "print(\"Names of students with less than 75 marks are:\",less_75_names)"
   ]
  },
  {
   "cell_type": "code",
   "execution_count": 6,
   "metadata": {},
   "outputs": [
    {
     "name": "stdout",
     "output_type": "stream",
     "text": [
      "Marks of student named Liz is 40\n"
     ]
    },
    {
     "name": "stderr",
     "output_type": "stream",
     "text": [
      "C:\\Users\\HP\\AppData\\Local\\Temp\\ipykernel_1964\\4067840007.py:5: DeprecationWarning: Conversion of an array with ndim > 0 to a scalar is deprecated, and will error in future. Ensure you extract a single element from your array before performing this operation. (Deprecated NumPy 1.25.)\n",
      "  marks_liz = int(grades[index_liz])\n"
     ]
    }
   ],
   "source": [
    "# Marks of Liz\n",
    "\n",
    "index_liz = np.where(names == \"Liz\")\n",
    "\n",
    "marks_liz = int(grades[index_liz])\n",
    "\n",
    "print(f'Marks of student named Liz is {marks_liz}')"
   ]
  },
  {
   "cell_type": "code",
   "execution_count": 7,
   "metadata": {},
   "outputs": [
    {
     "name": "stdout",
     "output_type": "stream",
     "text": [
      "Name of students with highest marks is Jose\n"
     ]
    }
   ],
   "source": [
    "# Names of students with highest marks\n",
    "index_highest_marks = np.argmax(grades)\n",
    "\n",
    "names_highest_marks = names[:,index_highest_marks]\n",
    "\n",
    "print(f'Name of students with highest marks is {\"\".join(names_highest_marks)}')"
   ]
  },
  {
   "cell_type": "code",
   "execution_count": 8,
   "metadata": {},
   "outputs": [
    {
     "name": "stdout",
     "output_type": "stream",
     "text": [
      "The index of longest name is 3\n",
      "The longest name is Muhammad\n"
     ]
    }
   ],
   "source": [
    "# Longest name in students\n",
    "longest_names = np.char.str_len(names)\n",
    "\n",
    "# Index of longest name\n",
    "index_longest_name = np.argmax(longest_names)\n",
    "\n",
    "longest_name = array[:,index_longest_name]\n",
    "\n",
    "\n",
    "print(f'The index of longest name is {index_longest_name}')\n",
    "print(f'The longest name is {longest_name[0]}')\n",
    "\n"
   ]
  }
 ],
 "metadata": {
  "kernelspec": {
   "display_name": "Python 3",
   "language": "python",
   "name": "python3"
  },
  "language_info": {
   "codemirror_mode": {
    "name": "ipython",
    "version": 3
   },
   "file_extension": ".py",
   "mimetype": "text/x-python",
   "name": "python",
   "nbconvert_exporter": "python",
   "pygments_lexer": "ipython3",
   "version": "3.11.5"
  }
 },
 "nbformat": 4,
 "nbformat_minor": 2
}
