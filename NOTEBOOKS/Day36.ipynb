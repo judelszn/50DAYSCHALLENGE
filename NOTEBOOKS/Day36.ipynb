{
 "cells": [
  {
   "cell_type": "markdown",
   "metadata": {},
   "source": [
    "#  Social Media Data Analysis"
   ]
  },
  {
   "cell_type": "code",
   "execution_count": 1,
   "metadata": {},
   "outputs": [],
   "source": [
    "# Import necessary libraries\n",
    "\n",
    "import numpy as np\n",
    "import pandas as pd\n",
    "import matplotlib.pyplot as plt\n",
    "import seaborn as sns"
   ]
  },
  {
   "cell_type": "code",
   "execution_count": 2,
   "metadata": {},
   "outputs": [
    {
     "data": {
      "text/html": [
       "<div>\n",
       "<style scoped>\n",
       "    .dataframe tbody tr th:only-of-type {\n",
       "        vertical-align: middle;\n",
       "    }\n",
       "\n",
       "    .dataframe tbody tr th {\n",
       "        vertical-align: top;\n",
       "    }\n",
       "\n",
       "    .dataframe thead th {\n",
       "        text-align: right;\n",
       "    }\n",
       "</style>\n",
       "<table border=\"1\" class=\"dataframe\">\n",
       "  <thead>\n",
       "    <tr style=\"text-align: right;\">\n",
       "      <th></th>\n",
       "      <th>username</th>\n",
       "      <th>age</th>\n",
       "      <th>gender</th>\n",
       "      <th>location</th>\n",
       "      <th>followers</th>\n",
       "      <th>posts</th>\n",
       "      <th>friends</th>\n",
       "    </tr>\n",
       "  </thead>\n",
       "  <tbody>\n",
       "    <tr>\n",
       "      <th>0</th>\n",
       "      <td>user1</td>\n",
       "      <td>28</td>\n",
       "      <td>male</td>\n",
       "      <td>Philadelphia</td>\n",
       "      <td>5493</td>\n",
       "      <td>56</td>\n",
       "      <td>605</td>\n",
       "    </tr>\n",
       "    <tr>\n",
       "      <th>1</th>\n",
       "      <td>user2</td>\n",
       "      <td>22</td>\n",
       "      <td>female</td>\n",
       "      <td>Los Angeles</td>\n",
       "      <td>9530</td>\n",
       "      <td>25</td>\n",
       "      <td>683</td>\n",
       "    </tr>\n",
       "    <tr>\n",
       "      <th>2</th>\n",
       "      <td>user3</td>\n",
       "      <td>22</td>\n",
       "      <td>male</td>\n",
       "      <td>Philadelphia</td>\n",
       "      <td>7200</td>\n",
       "      <td>20</td>\n",
       "      <td>100</td>\n",
       "    </tr>\n",
       "    <tr>\n",
       "      <th>3</th>\n",
       "      <td>user4</td>\n",
       "      <td>32</td>\n",
       "      <td>female</td>\n",
       "      <td>New York</td>\n",
       "      <td>7164</td>\n",
       "      <td>90</td>\n",
       "      <td>364</td>\n",
       "    </tr>\n",
       "    <tr>\n",
       "      <th>4</th>\n",
       "      <td>user5</td>\n",
       "      <td>33</td>\n",
       "      <td>male</td>\n",
       "      <td>San Diego</td>\n",
       "      <td>4034</td>\n",
       "      <td>44</td>\n",
       "      <td>624</td>\n",
       "    </tr>\n",
       "  </tbody>\n",
       "</table>\n",
       "</div>"
      ],
      "text/plain": [
       "  username  age  gender      location  followers  posts  friends\n",
       "0    user1   28    male  Philadelphia       5493     56      605\n",
       "1    user2   22  female   Los Angeles       9530     25      683\n",
       "2    user3   22    male  Philadelphia       7200     20      100\n",
       "3    user4   32  female      New York       7164     90      364\n",
       "4    user5   33    male     San Diego       4034     44      624"
      ]
     },
     "execution_count": 2,
     "metadata": {},
     "output_type": "execute_result"
    }
   ],
   "source": [
    "# Load dataset from csv file\n",
    "\n",
    "df = pd.read_csv(\"../DATA/social_media.csv\")\n",
    "df.head()"
   ]
  },
  {
   "cell_type": "code",
   "execution_count": 3,
   "metadata": {},
   "outputs": [
    {
     "name": "stdout",
     "output_type": "stream",
     "text": [
      "<class 'pandas.core.frame.DataFrame'>\n",
      "RangeIndex: 10 entries, 0 to 9\n",
      "Data columns (total 7 columns):\n",
      " #   Column     Non-Null Count  Dtype \n",
      "---  ------     --------------  ----- \n",
      " 0   username   10 non-null     object\n",
      " 1   age        10 non-null     int64 \n",
      " 2   gender     10 non-null     object\n",
      " 3   location   10 non-null     object\n",
      " 4   followers  10 non-null     int64 \n",
      " 5   posts      10 non-null     int64 \n",
      " 6   friends    10 non-null     int64 \n",
      "dtypes: int64(4), object(3)\n",
      "memory usage: 692.0+ bytes\n"
     ]
    }
   ],
   "source": [
    "# Details of dataset\n",
    "df.info()"
   ]
  },
  {
   "cell_type": "code",
   "execution_count": 4,
   "metadata": {},
   "outputs": [
    {
     "data": {
      "text/plain": [
       "location\n",
       "Philadelphia    2\n",
       "Los Angeles     2\n",
       "Phoenix         2\n",
       "New York        1\n",
       "San Diego       1\n",
       "Dallas          1\n",
       "Chicago         1\n",
       "Name: count, dtype: int64"
      ]
     },
     "execution_count": 4,
     "metadata": {},
     "output_type": "execute_result"
    }
   ],
   "source": [
    "# Count of values Location column\n",
    "df['location'].value_counts()"
   ]
  },
  {
   "cell_type": "code",
   "execution_count": 5,
   "metadata": {},
   "outputs": [
    {
     "name": "stdout",
     "output_type": "stream",
     "text": [
      "The location with most active users based on posts is New York\n",
      "The total number of posts is 90\n"
     ]
    }
   ],
   "source": [
    "# Location with most active users on total posts\n",
    "\n",
    "df_grouped_location = df.groupby(by=\"location\")['posts'].sum()\n",
    "\n",
    "# Index of location with most active users\n",
    "location_most_active = df_grouped_location.idxmax()\n",
    "print(f\"The location with most active users based on posts is {location_most_active}\")\n",
    "print(f\"The total number of posts is {df_grouped_location.max()}\")\n"
   ]
  },
  {
   "cell_type": "code",
   "execution_count": 6,
   "metadata": {},
   "outputs": [
    {
     "name": "stdout",
     "output_type": "stream",
     "text": [
      "The gender with least number of friends is male\n",
      "The total number of friends is 3017\n"
     ]
    }
   ],
   "source": [
    " # Gender with least number of friends\n",
    "df_grouped_gender = df.groupby(by='gender')['friends'].sum()\n",
    "\n",
    "gender_least_friends = df_grouped_gender.idxmin()\n",
    "\n",
    "print(f\"The gender with least number of friends is {gender_least_friends}\")\n",
    "print(f\"The total number of friends is {df_grouped_gender.min()}\")\n"
   ]
  },
  {
   "cell_type": "code",
   "execution_count": 7,
   "metadata": {},
   "outputs": [
    {
     "name": "stdout",
     "output_type": "stream",
     "text": [
      "The age of the most active user is 32\n",
      "The gender of the most active user is female\n",
      "The location of the most active user is New York\n"
     ]
    }
   ],
   "source": [
    "# Most active user based on posts\n",
    "\n",
    "# Age of the most active user\n",
    "active_user_age = df.sort_values(by=\"posts\", ascending=False).loc[:,'age'].head(1)\n",
    "\n",
    "# Age of the most active user\n",
    "active_user_gender = df.sort_values(by=\"posts\", ascending=False).loc[:,'gender'].head(1)\n",
    "\n",
    "# Age of the most active user\n",
    "active_user_location = df.sort_values(by=\"posts\", ascending=False).loc[:,'location'].head(1)\n",
    "\n",
    "print(f\"The age of the most active user is {active_user_age.iloc[0]}\")\n",
    "print(f\"The gender of the most active user is {active_user_gender.iloc[0]}\")\n",
    "print(f\"The location of the most active user is {active_user_location.iloc[0]}\")"
   ]
  },
  {
   "cell_type": "code",
   "execution_count": 8,
   "metadata": {},
   "outputs": [
    {
     "name": "stdout",
     "output_type": "stream",
     "text": [
      "The city with most female users is Los Angeles\n"
     ]
    }
   ],
   "source": [
    "# City with most female users\n",
    "\n",
    "df_grouped_city = df.groupby(by=['location','gender']).size().reset_index(name=\"count\")\n",
    "\n",
    "# Female users\n",
    "female_users = df_grouped_city[df_grouped_city['gender']=='female']\n",
    "\n",
    "# City with most female users\n",
    "city_most_female = female_users[\"count\"].idxmax()\n",
    "\n",
    "city = female_users.iloc[city_most_female][\"location\"]\n",
    "print(f\"The city with most female users is {city}\")"
   ]
  },
  {
   "cell_type": "code",
   "execution_count": 9,
   "metadata": {},
   "outputs": [
    {
     "data": {
      "image/png": "[encoded data removed]",
      "text/plain": [
       "<Figure size 1200x800 with 1 Axes>"
      ]
     },
     "metadata": {},
     "output_type": "display_data"
    }
   ],
   "source": [
    "# Number of male and female users\n",
    "count_gender = df['gender'].value_counts()\n",
    "\n",
    "# Pie chart showing gender\n",
    "fig,ax = plt.subplots(figsize=(12,8))\n",
    "ax.pie(x=count_gender, labels=count_gender.index,\n",
    "       autopct='%1.1f%%',\n",
    "       shadow=True)\n",
    "plt.title(label=\"Gender Distribution\",\n",
    "          fontdict={'fontsize':20,'fontweight':'bold'})\n",
    "plt.show()"
   ]
  },
  {
   "cell_type": "code",
   "execution_count": null,
   "metadata": {},
   "outputs": [],
   "source": []
  }
 ],
 "metadata": {
  "kernelspec": {
   "display_name": "Python 3",
   "language": "python",
   "name": "python3"
  },
  "language_info": {
   "codemirror_mode": {
    "name": "ipython",
    "version": 3
   },
   "file_extension": ".py",
   "mimetype": "text/x-python",
   "name": "python",
   "nbconvert_exporter": "python",
   "pygments_lexer": "ipython3",
   "version": "3.12.2"
  }
 },
 "nbformat": 4,
 "nbformat_minor": 2
}
