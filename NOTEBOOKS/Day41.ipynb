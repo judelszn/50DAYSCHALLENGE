{
 "cells": [
  {
   "cell_type": "markdown",
   "metadata": {},
   "source": [
    "#  Population Data Analysis"
   ]
  },
  {
   "cell_type": "code",
   "execution_count": 1,
   "metadata": {},
   "outputs": [],
   "source": [
    "# Import necessary libraries\n",
    "\n",
    "import numpy as np\n",
    "import pandas as pd\n",
    "import matplotlib.pyplot as plt\n",
    "import seaborn as sns"
   ]
  },
  {
   "cell_type": "code",
   "execution_count": 2,
   "metadata": {},
   "outputs": [
    {
     "data": {
      "text/html": [
       "<div>\n",
       "<style scoped>\n",
       "    .dataframe tbody tr th:only-of-type {\n",
       "        vertical-align: middle;\n",
       "    }\n",
       "\n",
       "    .dataframe tbody tr th {\n",
       "        vertical-align: top;\n",
       "    }\n",
       "\n",
       "    .dataframe thead th {\n",
       "        text-align: right;\n",
       "    }\n",
       "</style>\n",
       "<table border=\"1\" class=\"dataframe\">\n",
       "  <thead>\n",
       "    <tr style=\"text-align: right;\">\n",
       "      <th></th>\n",
       "      <th>Country</th>\n",
       "      <th>Population</th>\n",
       "      <th>Urban Population</th>\n",
       "      <th>Rural Population</th>\n",
       "    </tr>\n",
       "  </thead>\n",
       "  <tbody>\n",
       "    <tr>\n",
       "      <th>0</th>\n",
       "      <td>China</td>\n",
       "      <td>144616277</td>\n",
       "      <td>62233489.02</td>\n",
       "      <td>8.238279e+07</td>\n",
       "    </tr>\n",
       "    <tr>\n",
       "      <th>1</th>\n",
       "      <td>India</td>\n",
       "      <td>161802610</td>\n",
       "      <td>93703729.99</td>\n",
       "      <td>6.809888e+07</td>\n",
       "    </tr>\n",
       "    <tr>\n",
       "      <th>2</th>\n",
       "      <td>United States</td>\n",
       "      <td>199096104</td>\n",
       "      <td>89266811.49</td>\n",
       "      <td>1.098293e+08</td>\n",
       "    </tr>\n",
       "    <tr>\n",
       "      <th>3</th>\n",
       "      <td>Indonesia</td>\n",
       "      <td>192423285</td>\n",
       "      <td>58981078.45</td>\n",
       "      <td>1.334422e+08</td>\n",
       "    </tr>\n",
       "    <tr>\n",
       "      <th>4</th>\n",
       "      <td>Pakistan</td>\n",
       "      <td>122038765</td>\n",
       "      <td>78004077.98</td>\n",
       "      <td>4.403469e+07</td>\n",
       "    </tr>\n",
       "  </tbody>\n",
       "</table>\n",
       "</div>"
      ],
      "text/plain": [
       "         Country  Population  Urban Population  Rural Population\n",
       "0          China   144616277       62233489.02      8.238279e+07\n",
       "1          India   161802610       93703729.99      6.809888e+07\n",
       "2  United States   199096104       89266811.49      1.098293e+08\n",
       "3      Indonesia   192423285       58981078.45      1.334422e+08\n",
       "4       Pakistan   122038765       78004077.98      4.403469e+07"
      ]
     },
     "execution_count": 2,
     "metadata": {},
     "output_type": "execute_result"
    }
   ],
   "source": [
    "# Load dataset from csv file\n",
    "\n",
    "df = pd.read_csv(\"../DATA/population_data.csv\")\n",
    "df.head()"
   ]
  },
  {
   "cell_type": "code",
   "execution_count": 3,
   "metadata": {},
   "outputs": [
    {
     "data": {
      "text/plain": [
       "Country              object\n",
       "Population            int64\n",
       "Urban Population    float64\n",
       "Rural Population    float64\n",
       "dtype: object"
      ]
     },
     "execution_count": 3,
     "metadata": {},
     "output_type": "execute_result"
    }
   ],
   "source": [
    "# Dtype of dataset\n",
    "df.dtypes"
   ]
  },
  {
   "cell_type": "code",
   "execution_count": 4,
   "metadata": {},
   "outputs": [
    {
     "data": {
      "text/plain": [
       "(20, 4)"
      ]
     },
     "execution_count": 4,
     "metadata": {},
     "output_type": "execute_result"
    }
   ],
   "source": [
    "# Shape of dataset\n",
    "df.shape"
   ]
  },
  {
   "cell_type": "code",
   "execution_count": 5,
   "metadata": {},
   "outputs": [
    {
     "data": {
      "text/plain": [
       "Country             0\n",
       "Population          0\n",
       "Urban Population    0\n",
       "Rural Population    0\n",
       "dtype: int64"
      ]
     },
     "execution_count": 5,
     "metadata": {},
     "output_type": "execute_result"
    }
   ],
   "source": [
    "# Number of missing values in each column\n",
    "df.isnull().sum()"
   ]
  },
  {
   "cell_type": "code",
   "execution_count": 6,
   "metadata": {},
   "outputs": [
    {
     "data": {
      "text/plain": [
       "0"
      ]
     },
     "execution_count": 6,
     "metadata": {},
     "output_type": "execute_result"
    }
   ],
   "source": [
    "# Duplicate values in country column?\n",
    "df.duplicated('Country').sum()"
   ]
  },
  {
   "cell_type": "code",
   "execution_count": 7,
   "metadata": {},
   "outputs": [
    {
     "data": {
      "text/plain": [
       "20"
      ]
     },
     "execution_count": 7,
     "metadata": {},
     "output_type": "execute_result"
    }
   ],
   "source": [
    "# Number of unique values in country column\n",
    "df['Country'].nunique()"
   ]
  },
  {
   "cell_type": "code",
   "execution_count": 8,
   "metadata": {},
   "outputs": [
    {
     "name": "stdout",
     "output_type": "stream",
     "text": [
      "The population range is 159,664,488\n"
     ]
    }
   ],
   "source": [
    "# Population range of dataset\n",
    "\n",
    "range = df['Population'].max() - df['Population'].min()\n",
    "print(f\"The population range is {range:,}\")"
   ]
  },
  {
   "cell_type": "code",
   "execution_count": 9,
   "metadata": {},
   "outputs": [
    {
     "name": "stdout",
     "output_type": "stream",
     "text": [
      "The population mean is 127,368,421.75\n",
      "The population median is 141,602,917.50\n"
     ]
    }
   ],
   "source": [
    "# Mean and median of population column\n",
    "mean = df['Population'].mean()\n",
    "median = df['Population'].median()\n",
    "\n",
    "print(f\"The population mean is {mean:,.2f}\")\n",
    "print(f\"The population median is {median:,.2f}\")"
   ]
  },
  {
   "cell_type": "code",
   "execution_count": 10,
   "metadata": {},
   "outputs": [
    {
     "name": "stdout",
     "output_type": "stream",
     "text": [
      "The total population of countries is 2,547,368,435\n"
     ]
    }
   ],
   "source": [
    "# Total population of countries\n",
    "\n",
    "total_population = df['Population'].sum()\n",
    "print(f\"The total population of countries is {total_population:,}\")"
   ]
  },
  {
   "cell_type": "code",
   "execution_count": 11,
   "metadata": {},
   "outputs": [
    {
     "name": "stdout",
     "output_type": "stream",
     "text": [
      "The average population of countries is 127,368,421.75\n"
     ]
    }
   ],
   "source": [
    "# Average population of countries\n",
    "avg_population = df['Population'].sum() / len(df['Country'])\n",
    "print(f\"The average population of countries is {avg_population:,.2f}\")"
   ]
  },
  {
   "cell_type": "code",
   "execution_count": 12,
   "metadata": {},
   "outputs": [
    {
     "name": "stdout",
     "output_type": "stream",
     "text": [
      "The average urban population of countries is 56,629,809.43\n"
     ]
    }
   ],
   "source": [
    "# Average urban population of countries\n",
    "avg_urban_population = df['Urban Population'].mean()\n",
    "print(f\"The average urban population of countries is {avg_urban_population:,.2f}\")"
   ]
  },
  {
   "cell_type": "code",
   "execution_count": 13,
   "metadata": {},
   "outputs": [
    {
     "name": "stdout",
     "output_type": "stream",
     "text": [
      "The country with the highest population is United States\n"
     ]
    }
   ],
   "source": [
    "# Country with the highest population\n",
    "biggest_population_index = df['Population'].idxmax()\n",
    "country = df.loc[biggest_population_index, 'Country']\n",
    "print(f\"The country with the highest population is {country}\")"
   ]
  },
  {
   "cell_type": "code",
   "execution_count": 14,
   "metadata": {},
   "outputs": [
    {
     "name": "stdout",
     "output_type": "stream",
     "text": [
      "The country with the smallest Urban population is Turkey\n"
     ]
    }
   ],
   "source": [
    "# Country with the smallest population\n",
    "smallest_population_index = df['Urban Population'].idxmin()\n",
    "country = df.loc[smallest_population_index, 'Country']\n",
    "print(f\"The country with the smallest Urban population is {country}\")"
   ]
  },
  {
   "cell_type": "code",
   "execution_count": 15,
   "metadata": {},
   "outputs": [
    {
     "data": {
      "image/png": "[encoded data removed]",
      "text/plain": [
       "<Figure size 1200x800 with 1 Axes>"
      ]
     },
     "metadata": {},
     "output_type": "display_data"
    }
   ],
   "source": [
    "# Histogram of population\n",
    "fig,ax = plt.subplots(figsize=(12,8))\n",
    "ax.hist(x=df['Population'],bins=10,\n",
    "        alpha=0.8,density=1)\n",
    "ax.set(xlabel='Population',ylabel='Frequency')\n",
    "plt.title(label=\"Population Distribution\",\n",
    "          fontdict={'fontsize':20,'fontweight':'bold'})\n",
    "plt.show()"
   ]
  }
 ],
 "metadata": {
  "kernelspec": {
   "display_name": "Python 3",
   "language": "python",
   "name": "python3"
  },
  "language_info": {
   "codemirror_mode": {
    "name": "ipython",
    "version": 3
   },
   "file_extension": ".py",
   "mimetype": "text/x-python",
   "name": "python",
   "nbconvert_exporter": "python",
   "pygments_lexer": "ipython3",
   "version": "3.12.2"
  }
 },
 "nbformat": 4,
 "nbformat_minor": 2
}
