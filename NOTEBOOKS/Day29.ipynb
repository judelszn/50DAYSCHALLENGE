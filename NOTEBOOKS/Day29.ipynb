{
 "cells": [
  {
   "cell_type": "markdown",
   "metadata": {},
   "source": [
    "# Car Service Data Analysis"
   ]
  },
  {
   "cell_type": "code",
   "execution_count": 1,
   "metadata": {},
   "outputs": [],
   "source": [
    "# Import necessary libraries\n",
    "\n",
    "import numpy as np\n",
    "import pandas as pd\n",
    "import matplotlib.pyplot as plt\n",
    "import seaborn as sns"
   ]
  },
  {
   "cell_type": "code",
   "execution_count": 2,
   "metadata": {},
   "outputs": [
    {
     "data": {
      "text/html": [
       "<div>\n",
       "<style scoped>\n",
       "    .dataframe tbody tr th:only-of-type {\n",
       "        vertical-align: middle;\n",
       "    }\n",
       "\n",
       "    .dataframe tbody tr th {\n",
       "        vertical-align: top;\n",
       "    }\n",
       "\n",
       "    .dataframe thead th {\n",
       "        text-align: right;\n",
       "    }\n",
       "</style>\n",
       "<table border=\"1\" class=\"dataframe\">\n",
       "  <thead>\n",
       "    <tr style=\"text-align: right;\">\n",
       "      <th></th>\n",
       "      <th>Service Type</th>\n",
       "      <th>Service Cost</th>\n",
       "      <th>Service Revenue</th>\n",
       "      <th>Number of Customers</th>\n",
       "      <th>Advertising Cost</th>\n",
       "      <th>Location</th>\n",
       "    </tr>\n",
       "    <tr>\n",
       "      <th>Service ID</th>\n",
       "      <th></th>\n",
       "      <th></th>\n",
       "      <th></th>\n",
       "      <th></th>\n",
       "      <th></th>\n",
       "      <th></th>\n",
       "    </tr>\n",
       "  </thead>\n",
       "  <tbody>\n",
       "    <tr>\n",
       "      <th>1</th>\n",
       "      <td>Oil Change</td>\n",
       "      <td>$25</td>\n",
       "      <td>$50</td>\n",
       "      <td>10</td>\n",
       "      <td>$100</td>\n",
       "      <td>Urban</td>\n",
       "    </tr>\n",
       "    <tr>\n",
       "      <th>2</th>\n",
       "      <td>Brake Repair</td>\n",
       "      <td>$200</td>\n",
       "      <td>$500</td>\n",
       "      <td>5</td>\n",
       "      <td>$50</td>\n",
       "      <td>Suburban</td>\n",
       "    </tr>\n",
       "    <tr>\n",
       "      <th>3</th>\n",
       "      <td>Tire Rotation</td>\n",
       "      <td>$30</td>\n",
       "      <td>$75</td>\n",
       "      <td>12</td>\n",
       "      <td>$150</td>\n",
       "      <td>Rural</td>\n",
       "    </tr>\n",
       "    <tr>\n",
       "      <th>4</th>\n",
       "      <td>Transmission Repair</td>\n",
       "      <td>$1000</td>\n",
       "      <td>$2500</td>\n",
       "      <td>2</td>\n",
       "      <td>$200</td>\n",
       "      <td>Urban</td>\n",
       "    </tr>\n",
       "    <tr>\n",
       "      <th>5</th>\n",
       "      <td>Battery Replacement</td>\n",
       "      <td>$150</td>\n",
       "      <td>$300</td>\n",
       "      <td>8</td>\n",
       "      <td>$75</td>\n",
       "      <td>Suburban</td>\n",
       "    </tr>\n",
       "  </tbody>\n",
       "</table>\n",
       "</div>"
      ],
      "text/plain": [
       "                   Service Type Service Cost Service Revenue  \\\n",
       "Service ID                                                     \n",
       "1                    Oil Change          $25             $50   \n",
       "2                  Brake Repair         $200            $500   \n",
       "3                 Tire Rotation          $30             $75   \n",
       "4           Transmission Repair        $1000           $2500   \n",
       "5           Battery Replacement         $150            $300   \n",
       "\n",
       "            Number of Customers Advertising Cost  Location  \n",
       "Service ID                                                  \n",
       "1                            10             $100     Urban  \n",
       "2                             5              $50  Suburban  \n",
       "3                            12             $150     Rural  \n",
       "4                             2             $200     Urban  \n",
       "5                             8              $75  Suburban  "
      ]
     },
     "execution_count": 2,
     "metadata": {},
     "output_type": "execute_result"
    }
   ],
   "source": [
    "# Import data from csv file\n",
    "\n",
    "df = pd.read_csv(\"../DATA/car_service_data.csv\",index_col=\"Service ID\")\n",
    "df.head()"
   ]
  },
  {
   "cell_type": "code",
   "execution_count": 3,
   "metadata": {},
   "outputs": [
    {
     "data": {
      "text/plain": [
       "Index(['Service Type', 'Service Cost', 'Service Revenue',\n",
       "       'Number of Customers', 'Advertising Cost', 'Location'],\n",
       "      dtype='object')"
      ]
     },
     "execution_count": 3,
     "metadata": {},
     "output_type": "execute_result"
    }
   ],
   "source": [
    "# Column names\n",
    "df.columns"
   ]
  },
  {
   "cell_type": "code",
   "execution_count": 4,
   "metadata": {},
   "outputs": [
    {
     "data": {
      "text/plain": [
       "Service Type           object\n",
       "Service Cost           object\n",
       "Service Revenue        object\n",
       "Number of Customers     int64\n",
       "Advertising Cost       object\n",
       "Location               object\n",
       "dtype: object"
      ]
     },
     "execution_count": 4,
     "metadata": {},
     "output_type": "execute_result"
    }
   ],
   "source": [
    "# Data type of dataframe\n",
    "df.dtypes"
   ]
  },
  {
   "cell_type": "code",
   "execution_count": 5,
   "metadata": {},
   "outputs": [],
   "source": [
    "# Convert columns to int dtypes\n",
    "\n",
    "# Function to convert\n",
    "def modify_dt(df):\n",
    "    df['Service Cost'] = df['Service Cost'].str.replace('$','').astype(int)\n",
    "    df['Service Revenue'] = df['Service Revenue'].str.replace('$','').astype(int)\n",
    "    df['Advertising Cost'] = df['Advertising Cost'].str.replace('$','').astype(int)\n",
    "    return(df)"
   ]
  },
  {
   "cell_type": "code",
   "execution_count": 6,
   "metadata": {},
   "outputs": [
    {
     "data": {
      "text/html": [
       "<div>\n",
       "<style scoped>\n",
       "    .dataframe tbody tr th:only-of-type {\n",
       "        vertical-align: middle;\n",
       "    }\n",
       "\n",
       "    .dataframe tbody tr th {\n",
       "        vertical-align: top;\n",
       "    }\n",
       "\n",
       "    .dataframe thead th {\n",
       "        text-align: right;\n",
       "    }\n",
       "</style>\n",
       "<table border=\"1\" class=\"dataframe\">\n",
       "  <thead>\n",
       "    <tr style=\"text-align: right;\">\n",
       "      <th></th>\n",
       "      <th>Service Type</th>\n",
       "      <th>Service Cost</th>\n",
       "      <th>Service Revenue</th>\n",
       "      <th>Number of Customers</th>\n",
       "      <th>Advertising Cost</th>\n",
       "      <th>Location</th>\n",
       "    </tr>\n",
       "    <tr>\n",
       "      <th>Service ID</th>\n",
       "      <th></th>\n",
       "      <th></th>\n",
       "      <th></th>\n",
       "      <th></th>\n",
       "      <th></th>\n",
       "      <th></th>\n",
       "    </tr>\n",
       "  </thead>\n",
       "  <tbody>\n",
       "    <tr>\n",
       "      <th>1</th>\n",
       "      <td>Oil Change</td>\n",
       "      <td>25</td>\n",
       "      <td>50</td>\n",
       "      <td>10</td>\n",
       "      <td>100</td>\n",
       "      <td>Urban</td>\n",
       "    </tr>\n",
       "    <tr>\n",
       "      <th>2</th>\n",
       "      <td>Brake Repair</td>\n",
       "      <td>200</td>\n",
       "      <td>500</td>\n",
       "      <td>5</td>\n",
       "      <td>50</td>\n",
       "      <td>Suburban</td>\n",
       "    </tr>\n",
       "    <tr>\n",
       "      <th>3</th>\n",
       "      <td>Tire Rotation</td>\n",
       "      <td>30</td>\n",
       "      <td>75</td>\n",
       "      <td>12</td>\n",
       "      <td>150</td>\n",
       "      <td>Rural</td>\n",
       "    </tr>\n",
       "    <tr>\n",
       "      <th>4</th>\n",
       "      <td>Transmission Repair</td>\n",
       "      <td>1000</td>\n",
       "      <td>2500</td>\n",
       "      <td>2</td>\n",
       "      <td>200</td>\n",
       "      <td>Urban</td>\n",
       "    </tr>\n",
       "    <tr>\n",
       "      <th>5</th>\n",
       "      <td>Battery Replacement</td>\n",
       "      <td>150</td>\n",
       "      <td>300</td>\n",
       "      <td>8</td>\n",
       "      <td>75</td>\n",
       "      <td>Suburban</td>\n",
       "    </tr>\n",
       "  </tbody>\n",
       "</table>\n",
       "</div>"
      ],
      "text/plain": [
       "                   Service Type  Service Cost  Service Revenue  \\\n",
       "Service ID                                                       \n",
       "1                    Oil Change            25               50   \n",
       "2                  Brake Repair           200              500   \n",
       "3                 Tire Rotation            30               75   \n",
       "4           Transmission Repair          1000             2500   \n",
       "5           Battery Replacement           150              300   \n",
       "\n",
       "            Number of Customers  Advertising Cost  Location  \n",
       "Service ID                                                   \n",
       "1                            10               100     Urban  \n",
       "2                             5                50  Suburban  \n",
       "3                            12               150     Rural  \n",
       "4                             2               200     Urban  \n",
       "5                             8                75  Suburban  "
      ]
     },
     "execution_count": 6,
     "metadata": {},
     "output_type": "execute_result"
    }
   ],
   "source": [
    "df_copy = df.copy()\n",
    "\n",
    "modify_dt(df_copy)\n",
    "df_copy.head()"
   ]
  },
  {
   "cell_type": "code",
   "execution_count": 7,
   "metadata": {},
   "outputs": [],
   "source": [
    "# Group by Location and sort by Service cost\n",
    "\n",
    "by_location = df_copy.groupby(by='Location').sum(numeric_only=True)\n",
    "by_location.sort_values(by='Service Cost',ascending=False,inplace=True)"
   ]
  },
  {
   "cell_type": "code",
   "execution_count": 8,
   "metadata": {},
   "outputs": [
    {
     "name": "stdout",
     "output_type": "stream",
     "text": [
      "The location with highest service cost is Urban\n"
     ]
    }
   ],
   "source": [
    "# Location with highest service cost\n",
    "loc_highest_cost = by_location['Service Cost'].idxmax()\n",
    "\n",
    "print(f\"The location with highest service cost is {loc_highest_cost}\")"
   ]
  },
  {
   "cell_type": "code",
   "execution_count": 9,
   "metadata": {},
   "outputs": [
    {
     "data": {
      "image/png": "[encoded data removed]",
      "text/plain": [
       "<Figure size 1200x800 with 1 Axes>"
      ]
     },
     "metadata": {},
     "output_type": "display_data"
    }
   ],
   "source": [
    "# Barplot of service cost\n",
    "\n",
    "fig,ax = plt.subplots(figsize=(12,8))\n",
    "sns.barplot(data=by_location,x=by_location.index,\n",
    "            y=by_location['Service Cost'],\n",
    "            hue=by_location.index, ax=ax\n",
    "            )\n",
    "plt.title(label=\"Service Cost Per Location\",\n",
    "          fontdict={\"fontsize\":20, \"fontweight\":\"bold\"}\n",
    "          )\n",
    "plt.show()"
   ]
  },
  {
   "cell_type": "code",
   "execution_count": 10,
   "metadata": {},
   "outputs": [
    {
     "name": "stdout",
     "output_type": "stream",
     "text": [
      "The location with highest number of customers is Rural\n"
     ]
    }
   ],
   "source": [
    "# Location with highest number of customers\n",
    "by_location.sort_values(by=\"Number of Customers\",ascending=False,inplace=True)\n",
    "\n",
    "loc_highest_customers = by_location['Number of Customers'].idxmax()\n",
    "\n",
    "print(f\"The location with highest number of customers is {loc_highest_customers}\")"
   ]
  },
  {
   "cell_type": "code",
   "execution_count": 11,
   "metadata": {},
   "outputs": [
    {
     "data": {
      "image/png": "[encoded data removed]",
      "text/plain": [
       "<Figure size 1200x1000 with 1 Axes>"
      ]
     },
     "metadata": {},
     "output_type": "display_data"
    }
   ],
   "source": [
    "# Pie chart of number of customers per location\n",
    "\n",
    "fig,ax = plt.subplots(figsize=(12,10))\n",
    "ax.pie(data=by_location, x='Number of Customers',\n",
    "       labels=by_location.index,explode=(0.1,0,0),\n",
    "       autopct='%1.1f%%',shadow=True\n",
    "       )\n",
    "plt.title(label=\"Number of Customers Per Location\",\n",
    "          fontdict={\"fontsize\":20, \"fontweight\":\"bold\"})\n",
    "plt.show()"
   ]
  },
  {
   "cell_type": "code",
   "execution_count": 12,
   "metadata": {},
   "outputs": [
    {
     "data": {
      "text/plain": [
       "Location\n",
       "Rural       60.4%\n",
       "Suburban    55.8%\n",
       "Urban       56.5%\n",
       "Name: Profit Margin, dtype: object"
      ]
     },
     "execution_count": 12,
     "metadata": {},
     "output_type": "execute_result"
    }
   ],
   "source": [
    "# Compute profit\n",
    "df_copy['Profit'] = df_copy['Service Revenue'] - df_copy['Service Cost']\n",
    "\n",
    "# Compute profit margins\n",
    "df_copy['Profit Margin'] = (df_copy['Profit']/df_copy['Service Revenue']) * 100\n",
    "\n",
    "# Group data by location\n",
    "df_copy.groupby(by='Location')['Profit Margin'].mean().map('{:,.1f}%'.format)"
   ]
  },
  {
   "cell_type": "code",
   "execution_count": 13,
   "metadata": {},
   "outputs": [
    {
     "data": {
      "text/plain": [
       "Location\n",
       "Rural       34.8%\n",
       "Suburban    12.6%\n",
       "Urban       14.0%\n",
       "dtype: object"
      ]
     },
     "execution_count": 13,
     "metadata": {},
     "output_type": "execute_result"
    }
   ],
   "source": [
    "# Group data by location\n",
    "grouped_location = df_copy.groupby(by='Location')[['Advertising Cost','Service Revenue']].sum()\n",
    "\n",
    "# Compute advertising cost as a percentage of service revenue\n",
    "((grouped_location['Advertising Cost'] / grouped_location['Service Revenue']) * 100).map('{:,.1f}%'.format)"
   ]
  },
  {
   "cell_type": "code",
   "execution_count": 14,
   "metadata": {},
   "outputs": [
    {
     "data": {
      "text/html": [
       "<div>\n",
       "<style scoped>\n",
       "    .dataframe tbody tr th:only-of-type {\n",
       "        vertical-align: middle;\n",
       "    }\n",
       "\n",
       "    .dataframe tbody tr th {\n",
       "        vertical-align: top;\n",
       "    }\n",
       "\n",
       "    .dataframe thead th {\n",
       "        text-align: right;\n",
       "    }\n",
       "</style>\n",
       "<table border=\"1\" class=\"dataframe\">\n",
       "  <thead>\n",
       "    <tr style=\"text-align: right;\">\n",
       "      <th></th>\n",
       "      <th>Advertising Cost</th>\n",
       "      <th>Service Revenue</th>\n",
       "      <th>Rank</th>\n",
       "    </tr>\n",
       "    <tr>\n",
       "      <th>Location</th>\n",
       "      <th></th>\n",
       "      <th></th>\n",
       "      <th></th>\n",
       "    </tr>\n",
       "  </thead>\n",
       "  <tbody>\n",
       "    <tr>\n",
       "      <th>Rural</th>\n",
       "      <td>575</td>\n",
       "      <td>1650</td>\n",
       "      <td>1.0</td>\n",
       "    </tr>\n",
       "    <tr>\n",
       "      <th>Suburban</th>\n",
       "      <td>625</td>\n",
       "      <td>4950</td>\n",
       "      <td>3.0</td>\n",
       "    </tr>\n",
       "    <tr>\n",
       "      <th>Urban</th>\n",
       "      <td>750</td>\n",
       "      <td>5350</td>\n",
       "      <td>2.0</td>\n",
       "    </tr>\n",
       "  </tbody>\n",
       "</table>\n",
       "</div>"
      ],
      "text/plain": [
       "          Advertising Cost  Service Revenue  Rank\n",
       "Location                                         \n",
       "Rural                  575             1650   1.0\n",
       "Suburban               625             4950   3.0\n",
       "Urban                  750             5350   2.0"
      ]
     },
     "execution_count": 14,
     "metadata": {},
     "output_type": "execute_result"
    }
   ],
   "source": [
    "# Rank group by location\n",
    "grouped_location['Rank'] = (grouped_location['Advertising Cost'] / grouped_location['Service Revenue']).rank(ascending=False)\n",
    "grouped_location"
   ]
  }
 ],
 "metadata": {
  "kernelspec": {
   "display_name": "Python 3",
   "language": "python",
   "name": "python3"
  },
  "language_info": {
   "codemirror_mode": {
    "name": "ipython",
    "version": 3
   },
   "file_extension": ".py",
   "mimetype": "text/x-python",
   "name": "python",
   "nbconvert_exporter": "python",
   "pygments_lexer": "ipython3",
   "version": "3.12.2"
  }
 },
 "nbformat": 4,
 "nbformat_minor": 2
}
