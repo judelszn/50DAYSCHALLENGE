{
 "cells": [
  {
   "cell_type": "markdown",
   "metadata": {},
   "source": [
    " # Retail Data Processing and Analysis – Part 2"
   ]
  },
  {
   "cell_type": "code",
   "execution_count": 1,
   "metadata": {},
   "outputs": [],
   "source": [
    "# Import necessary libraries\n",
    "\n",
    "import pandas as pd\n",
    "import numpy as np\n",
    "import matplotlib.pyplot as plt"
   ]
  },
  {
   "cell_type": "code",
   "execution_count": 2,
   "metadata": {},
   "outputs": [
    {
     "data": {
      "text/html": [
       "<div>\n",
       "<style scoped>\n",
       "    .dataframe tbody tr th:only-of-type {\n",
       "        vertical-align: middle;\n",
       "    }\n",
       "\n",
       "    .dataframe tbody tr th {\n",
       "        vertical-align: top;\n",
       "    }\n",
       "\n",
       "    .dataframe thead th {\n",
       "        text-align: right;\n",
       "    }\n",
       "</style>\n",
       "<table border=\"1\" class=\"dataframe\">\n",
       "  <thead>\n",
       "    <tr style=\"text-align: right;\">\n",
       "      <th></th>\n",
       "      <th>Date</th>\n",
       "      <th>Customer ID</th>\n",
       "      <th>Product ID</th>\n",
       "      <th>Product Name</th>\n",
       "      <th>Cost Per Product</th>\n",
       "      <th>Price Per Product</th>\n",
       "      <th>Quantity</th>\n",
       "      <th>Revenue</th>\n",
       "      <th>Costs</th>\n",
       "      <th>Profit</th>\n",
       "      <th>Filter</th>\n",
       "    </tr>\n",
       "  </thead>\n",
       "  <tbody>\n",
       "    <tr>\n",
       "      <th>0</th>\n",
       "      <td>1 01 2023</td>\n",
       "      <td>1001</td>\n",
       "      <td>101</td>\n",
       "      <td>T-Shirt</td>\n",
       "      <td>18</td>\n",
       "      <td>20</td>\n",
       "      <td>2</td>\n",
       "      <td>40</td>\n",
       "      <td>36</td>\n",
       "      <td>4</td>\n",
       "      <td>False</td>\n",
       "    </tr>\n",
       "    <tr>\n",
       "      <th>1</th>\n",
       "      <td>1 01 2023</td>\n",
       "      <td>1002</td>\n",
       "      <td>102</td>\n",
       "      <td>Jeans</td>\n",
       "      <td>35</td>\n",
       "      <td>50</td>\n",
       "      <td>1</td>\n",
       "      <td>50</td>\n",
       "      <td>35</td>\n",
       "      <td>15</td>\n",
       "      <td>False</td>\n",
       "    </tr>\n",
       "    <tr>\n",
       "      <th>2</th>\n",
       "      <td>2 01 2023</td>\n",
       "      <td>1003</td>\n",
       "      <td>103</td>\n",
       "      <td>Hoodie</td>\n",
       "      <td>25</td>\n",
       "      <td>30</td>\n",
       "      <td>3</td>\n",
       "      <td>90</td>\n",
       "      <td>75</td>\n",
       "      <td>15</td>\n",
       "      <td>False</td>\n",
       "    </tr>\n",
       "    <tr>\n",
       "      <th>3</th>\n",
       "      <td>3 01 2023</td>\n",
       "      <td>1004</td>\n",
       "      <td>104</td>\n",
       "      <td>Sneakers</td>\n",
       "      <td>55</td>\n",
       "      <td>70</td>\n",
       "      <td>2</td>\n",
       "      <td>140</td>\n",
       "      <td>110</td>\n",
       "      <td>30</td>\n",
       "      <td>True</td>\n",
       "    </tr>\n",
       "    <tr>\n",
       "      <th>4</th>\n",
       "      <td>3 01 2023</td>\n",
       "      <td>1005</td>\n",
       "      <td>105</td>\n",
       "      <td>Sunglasses</td>\n",
       "      <td>17</td>\n",
       "      <td>25</td>\n",
       "      <td>1</td>\n",
       "      <td>25</td>\n",
       "      <td>17</td>\n",
       "      <td>8</td>\n",
       "      <td>False</td>\n",
       "    </tr>\n",
       "  </tbody>\n",
       "</table>\n",
       "</div>"
      ],
      "text/plain": [
       "        Date  Customer ID  Product ID Product Name  Cost Per Product  \\\n",
       "0  1 01 2023         1001         101      T-Shirt                18   \n",
       "1  1 01 2023         1002         102        Jeans                35   \n",
       "2  2 01 2023         1003         103       Hoodie                25   \n",
       "3  3 01 2023         1004         104     Sneakers                55   \n",
       "4  3 01 2023         1005         105   Sunglasses                17   \n",
       "\n",
       "   Price Per Product  Quantity  Revenue  Costs  Profit  Filter  \n",
       "0                 20         2       40     36       4   False  \n",
       "1                 50         1       50     35      15   False  \n",
       "2                 30         3       90     75      15   False  \n",
       "3                 70         2      140    110      30    True  \n",
       "4                 25         1       25     17       8   False  "
      ]
     },
     "execution_count": 2,
     "metadata": {},
     "output_type": "execute_result"
    }
   ],
   "source": [
    "# Import data from Day25 dataset\n",
    "\n",
    "df = pd.read_csv(\"../DATA/retail_shop_data_copy.csv\")\n",
    "df.head()"
   ]
  },
  {
   "cell_type": "code",
   "execution_count": 3,
   "metadata": {},
   "outputs": [
    {
     "name": "stdout",
     "output_type": "stream",
     "text": [
      "The profit difference between jacket and sneakers is $21\n"
     ]
    }
   ],
   "source": [
    "# Difference in profit between jackets and sneakers\n",
    "\n",
    "# Group data by product\n",
    "by_product = df.groupby(by='Product Name')['Profit'].sum()\n",
    "\n",
    "# Profit of jackets\n",
    "profit_jackets = by_product.loc['Jacket']\n",
    "# Profit of sneakers\n",
    "profit_sneakers = by_product.loc['Sneakers']\n",
    "\n",
    "profit_jackets_sneakers = abs(profit_jackets - profit_sneakers)\n",
    "print(f\"The profit difference between jacket and sneakers is ${profit_jackets_sneakers}\")"
   ]
  },
  {
   "cell_type": "code",
   "execution_count": 4,
   "metadata": {},
   "outputs": [
    {
     "name": "stdout",
     "output_type": "stream",
     "text": [
      "The difference in cost between the most and least profitable products is $-98\n"
     ]
    }
   ],
   "source": [
    "# Difference in cost between most and least profitable products\n",
    "\n",
    "# Sort data by profit\n",
    "df.sort_values(by='Profit',ascending=False,inplace=True)\n",
    "\n",
    "cost_diff = df.iloc[-1]['Costs'] - df.iloc[0]['Costs']\n",
    "print(f'The difference in cost between the most and least profitable products is ${cost_diff}')"
   ]
  },
  {
   "cell_type": "code",
   "execution_count": 5,
   "metadata": {},
   "outputs": [
    {
     "name": "stdout",
     "output_type": "stream",
     "text": [
      "Total cost of jackets is $189\n"
     ]
    }
   ],
   "source": [
    "# Total cost of jackets\n",
    "by_product_costs = df.groupby(by='Product Name')['Costs'].sum()\n",
    "\n",
    "cost_total_jackets = by_product_costs.loc['Jacket']\n",
    "print(f'Total cost of jackets is ${cost_total_jackets}')"
   ]
  },
  {
   "cell_type": "code",
   "execution_count": 6,
   "metadata": {},
   "outputs": [
    {
     "data": {
      "text/html": [
       "<div>\n",
       "<style scoped>\n",
       "    .dataframe tbody tr th:only-of-type {\n",
       "        vertical-align: middle;\n",
       "    }\n",
       "\n",
       "    .dataframe tbody tr th {\n",
       "        vertical-align: top;\n",
       "    }\n",
       "\n",
       "    .dataframe thead th {\n",
       "        text-align: right;\n",
       "    }\n",
       "</style>\n",
       "<table border=\"1\" class=\"dataframe\">\n",
       "  <thead>\n",
       "    <tr style=\"text-align: right;\">\n",
       "      <th></th>\n",
       "      <th>Date</th>\n",
       "      <th>Customer ID</th>\n",
       "      <th>Product ID</th>\n",
       "      <th>Product Name</th>\n",
       "      <th>Cost Per Product</th>\n",
       "      <th>Price Per Product</th>\n",
       "      <th>Quantity</th>\n",
       "      <th>Revenue</th>\n",
       "      <th>Costs</th>\n",
       "      <th>Profit</th>\n",
       "      <th>Filter</th>\n",
       "    </tr>\n",
       "  </thead>\n",
       "  <tbody>\n",
       "    <tr>\n",
       "      <th>16</th>\n",
       "      <td>11 01 2023</td>\n",
       "      <td>1006</td>\n",
       "      <td>116</td>\n",
       "      <td>Wallet</td>\n",
       "      <td>28</td>\n",
       "      <td>30</td>\n",
       "      <td>1</td>\n",
       "      <td>30</td>\n",
       "      <td>28</td>\n",
       "      <td>2</td>\n",
       "      <td>False</td>\n",
       "    </tr>\n",
       "    <tr>\n",
       "      <th>12</th>\n",
       "      <td>9 01 2023</td>\n",
       "      <td>1003</td>\n",
       "      <td>113</td>\n",
       "      <td>Beanie</td>\n",
       "      <td>9</td>\n",
       "      <td>12</td>\n",
       "      <td>1</td>\n",
       "      <td>12</td>\n",
       "      <td>9</td>\n",
       "      <td>3</td>\n",
       "      <td>False</td>\n",
       "    </tr>\n",
       "  </tbody>\n",
       "</table>\n",
       "</div>"
      ],
      "text/plain": [
       "          Date  Customer ID  Product ID Product Name  Cost Per Product  \\\n",
       "16  11 01 2023         1006         116       Wallet                28   \n",
       "12   9 01 2023         1003         113       Beanie                 9   \n",
       "\n",
       "    Price Per Product  Quantity  Revenue  Costs  Profit  Filter  \n",
       "16                 30         1       30     28       2   False  \n",
       "12                 12         1       12      9       3   False  "
      ]
     },
     "execution_count": 6,
     "metadata": {},
     "output_type": "execute_result"
    }
   ],
   "source": [
    "# 6 least profitable products \n",
    "least_5_profit_products = df.sort_values(by='Profit').iloc[0:6]\n",
    "\n",
    "least_5_profit_products.head(2)"
   ]
  },
  {
   "cell_type": "code",
   "execution_count": 7,
   "metadata": {},
   "outputs": [],
   "source": [
    "# Create data\n",
    "\n",
    "products = least_5_profit_products['Product Name']\n",
    "sales = least_5_profit_products['Revenue']\n",
    "costs = least_5_profit_products['Costs']\n",
    "profit = least_5_profit_products['Profit']"
   ]
  },
  {
   "cell_type": "code",
   "execution_count": 8,
   "metadata": {},
   "outputs": [
    {
     "data": {
      "image/png": "[encoded data removed]",
      "text/plain": [
       "<Figure size 1200x800 with 1 Axes>"
      ]
     },
     "metadata": {},
     "output_type": "display_data"
    }
   ],
   "source": [
    "# Stacked bar plot\n",
    "\n",
    "fig,ax = plt.subplots(figsize=(12,8))\n",
    "ax.bar(x=products,height=sales,label='Sales')\n",
    "ax.bar(x=products,height=costs,label='Costs')\n",
    "ax.bar(x=products,height=profit,label='Profit')\n",
    "plt.legend()\n",
    "ax.set(xlabel='Products',ylabel='Revenue')\n",
    "plt.title(label=\"5 Least Profitable Products\",\n",
    "          fontdict={'fontsize':20,'fontweight':'bold'})\n",
    "plt.show()"
   ]
  }
 ],
 "metadata": {
  "kernelspec": {
   "display_name": "Python 3",
   "language": "python",
   "name": "python3"
  },
  "language_info": {
   "codemirror_mode": {
    "name": "ipython",
    "version": 3
   },
   "file_extension": ".py",
   "mimetype": "text/x-python",
   "name": "python",
   "nbconvert_exporter": "python",
   "pygments_lexer": "ipython3",
   "version": "3.12.2"
  }
 },
 "nbformat": 4,
 "nbformat_minor": 2
}
